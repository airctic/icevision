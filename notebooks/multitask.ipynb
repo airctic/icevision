{
 "cells": [
  {
   "cell_type": "code",
   "execution_count": 1,
   "id": "married-network",
   "metadata": {},
   "outputs": [],
   "source": [
    "%load_ext autoreload\n",
    "%autoreload 2"
   ]
  },
  {
   "cell_type": "code",
   "execution_count": 2,
   "id": "colored-commercial",
   "metadata": {},
   "outputs": [],
   "source": [
    "from icevision.models.multitask.ultralytics.yolov5 import *\n",
    "from icevision.data.data_splitter import *\n",
    "from icevision.visualize import *\n",
    "from icevision.imports import *\n",
    "import icedata.datasets.exdark_trimmed as exdark"
   ]
  },
  {
   "cell_type": "code",
   "execution_count": 3,
   "id": "mobile-enterprise",
   "metadata": {},
   "outputs": [
    {
     "data": {
      "application/vnd.jupyter.widget-view+json": {
       "model_id": "dc584f4264b2495aa1a62060ba044b31",
       "version_major": 2,
       "version_minor": 0
      },
      "text/plain": [
       "  0%|          | 0/4626 [00:00<?, ?it/s]"
      ]
     },
     "metadata": {},
     "output_type": "display_data"
    },
    {
     "name": "stderr",
     "output_type": "stream",
     "text": [
      "\u001b[1m\u001b[1mINFO    \u001b[0m\u001b[1m\u001b[0m - \u001b[1m\u001b[34m\u001b[1mAutofixing records\u001b[0m\u001b[1m\u001b[34m\u001b[0m\u001b[1m\u001b[0m | \u001b[36micevision.parsers.parser\u001b[0m:\u001b[36mparse\u001b[0m:\u001b[36m136\u001b[0m\n"
     ]
    },
    {
     "data": {
      "application/vnd.jupyter.widget-view+json": {
       "model_id": "29053f8f9d84454184833347ac40c72f",
       "version_major": 2,
       "version_minor": 0
      },
      "text/plain": [
       "  0%|          | 0/1850 [00:00<?, ?it/s]"
      ]
     },
     "metadata": {},
     "output_type": "display_data"
    },
    {
     "name": "stderr",
     "output_type": "stream",
     "text": [
      "\u001b[32m\u001b[1mAUTOFIX-SUCCESS\u001b[0m\u001b[32m\u001b[0m - \u001b[32m\u001b[1m\u001b[31m(record_id: 2178)\u001b[0m\u001b[32m\u001b[1m\u001b[0m\u001b[32m - Clipping bbox ymax from 428 to image height 427 (Before: <BBox (xmin:3, ymin:245, xmax:205, ymax:428)>)\u001b[0m | \u001b[36micevision.utils.logger_utils\u001b[0m:\u001b[36mautofix_log\u001b[0m:\u001b[36m17\u001b[0m\n",
      "\u001b[32m\u001b[1mAUTOFIX-SUCCESS\u001b[0m\u001b[32m\u001b[0m - \u001b[32m\u001b[1m\u001b[31m(record_id: 512)\u001b[0m\u001b[32m\u001b[1m\u001b[0m\u001b[32m - Clipping bbox xmax from 501 to image width 500 (Before: <BBox (xmin:91, ymin:5, xmax:501, ymax:204)>)\u001b[0m | \u001b[36micevision.utils.logger_utils\u001b[0m:\u001b[36mautofix_log\u001b[0m:\u001b[36m17\u001b[0m\n",
      "\u001b[32m\u001b[1mAUTOFIX-SUCCESS\u001b[0m\u001b[32m\u001b[0m - \u001b[32m\u001b[1m\u001b[31m(record_id: 1237)\u001b[0m\u001b[32m\u001b[1m\u001b[0m\u001b[32m - Clipping bbox ymax from 536 to image height 528 (Before: <BBox (xmin:530, ymin:285, xmax:695, ymax:536)>)\u001b[0m | \u001b[36micevision.utils.logger_utils\u001b[0m:\u001b[36mautofix_log\u001b[0m:\u001b[36m17\u001b[0m\n",
      "\u001b[32m\u001b[1mAUTOFIX-SUCCESS\u001b[0m\u001b[32m\u001b[0m - \u001b[32m\u001b[1m\u001b[31m(record_id: 2063)\u001b[0m\u001b[32m\u001b[1m\u001b[0m\u001b[32m - Clipping bbox ymax from 801 to image height 800 (Before: <BBox (xmin:399, ymin:657, xmax:758, ymax:801)>)\u001b[0m | \u001b[36micevision.utils.logger_utils\u001b[0m:\u001b[36mautofix_log\u001b[0m:\u001b[36m17\u001b[0m\n",
      "\u001b[32m\u001b[1mAUTOFIX-SUCCESS\u001b[0m\u001b[32m\u001b[0m - \u001b[32m\u001b[1m\u001b[31m(record_id: 323)\u001b[0m\u001b[32m\u001b[1m\u001b[0m\u001b[32m - Clipping bbox xmax from 501 to image width 500 (Before: <BBox (xmin:441, ymin:95, xmax:501, ymax:132)>)\u001b[0m | \u001b[36micevision.utils.logger_utils\u001b[0m:\u001b[36mautofix_log\u001b[0m:\u001b[36m17\u001b[0m\n",
      "\u001b[32m\u001b[1mAUTOFIX-SUCCESS\u001b[0m\u001b[32m\u001b[0m - \u001b[32m\u001b[1m\u001b[31m(record_id: 199)\u001b[0m\u001b[32m\u001b[1m\u001b[0m\u001b[32m - Clipping bbox ymax from 481 to image height 480 (Before: <BBox (xmin:208, ymin:429, xmax:282, ymax:481)>)\u001b[0m | \u001b[36micevision.utils.logger_utils\u001b[0m:\u001b[36mautofix_log\u001b[0m:\u001b[36m17\u001b[0m\n",
      "\u001b[32m\u001b[1mAUTOFIX-SUCCESS\u001b[0m\u001b[32m\u001b[0m - \u001b[32m\u001b[1m\u001b[31m(record_id: 919)\u001b[0m\u001b[32m\u001b[1m\u001b[0m\u001b[32m - Clipping bbox ymax from 453 to image height 450 (Before: <BBox (xmin:240, ymin:146, xmax:452, ymax:453)>)\u001b[0m | \u001b[36micevision.utils.logger_utils\u001b[0m:\u001b[36mautofix_log\u001b[0m:\u001b[36m17\u001b[0m\n",
      "\u001b[32m\u001b[1mAUTOFIX-SUCCESS\u001b[0m\u001b[32m\u001b[0m - \u001b[32m\u001b[1m\u001b[31m(record_id: 361)\u001b[0m\u001b[32m\u001b[1m\u001b[0m\u001b[32m - Clipping bbox ymax from 428 to image height 427 (Before: <BBox (xmin:402, ymin:28, xmax:613, ymax:428)>)\u001b[0m | \u001b[36micevision.utils.logger_utils\u001b[0m:\u001b[36mautofix_log\u001b[0m:\u001b[36m17\u001b[0m\n",
      "\u001b[32m\u001b[1mAUTOFIX-SUCCESS\u001b[0m\u001b[32m\u001b[0m - \u001b[32m\u001b[1m\u001b[31m(record_id: 761)\u001b[0m\u001b[32m\u001b[1m\u001b[0m\u001b[32m - Clipping bbox ymax from 694 to image height 679 (Before: <BBox (xmin:771, ymin:546, xmax:930, ymax:694)>)\u001b[0m | \u001b[36micevision.utils.logger_utils\u001b[0m:\u001b[36mautofix_log\u001b[0m:\u001b[36m17\u001b[0m\n",
      "\u001b[32m\u001b[1mAUTOFIX-SUCCESS\u001b[0m\u001b[32m\u001b[0m - \u001b[32m\u001b[1m\u001b[31m(record_id: 2048)\u001b[0m\u001b[32m\u001b[1m\u001b[0m\u001b[32m - Clipping bbox xmax from 1028 to image width 1024 (Before: <BBox (xmin:517, ymin:418, xmax:1028, ymax:668)>)\u001b[0m | \u001b[36micevision.utils.logger_utils\u001b[0m:\u001b[36mautofix_log\u001b[0m:\u001b[36m17\u001b[0m\n",
      "\u001b[32m\u001b[1mAUTOFIX-SUCCESS\u001b[0m\u001b[32m\u001b[0m - \u001b[32m\u001b[1m\u001b[31m(record_id: 2298)\u001b[0m\u001b[32m\u001b[1m\u001b[0m\u001b[32m - Clipping bbox xmax from 1281 to image width 1280 (Before: <BBox (xmin:1035, ymin:466, xmax:1281, ymax:712)>)\u001b[0m | \u001b[36micevision.utils.logger_utils\u001b[0m:\u001b[36mautofix_log\u001b[0m:\u001b[36m17\u001b[0m\n",
      "\u001b[32m\u001b[1mAUTOFIX-SUCCESS\u001b[0m\u001b[32m\u001b[0m - \u001b[32m\u001b[1m\u001b[31m(record_id: 976)\u001b[0m\u001b[32m\u001b[1m\u001b[0m\u001b[32m - Clipping bbox ymax from 376 to image height 375 (Before: <BBox (xmin:88, ymin:158, xmax:291, ymax:376)>)\u001b[0m | \u001b[36micevision.utils.logger_utils\u001b[0m:\u001b[36mautofix_log\u001b[0m:\u001b[36m17\u001b[0m\n",
      "\u001b[32m\u001b[1mAUTOFIX-SUCCESS\u001b[0m\u001b[32m\u001b[0m - \u001b[32m\u001b[1m\u001b[31m(record_id: 180)\u001b[0m\u001b[32m\u001b[1m\u001b[0m\u001b[32m - Clipping bbox xmax from 641 to image width 640 (Before: <BBox (xmin:563, ymin:357, xmax:641, ymax:400)>)\u001b[0m | \u001b[36micevision.utils.logger_utils\u001b[0m:\u001b[36mautofix_log\u001b[0m:\u001b[36m17\u001b[0m\n",
      "\u001b[32m\u001b[1mAUTOFIX-SUCCESS\u001b[0m\u001b[32m\u001b[0m - \u001b[32m\u001b[1m\u001b[31m(record_id: 896)\u001b[0m\u001b[32m\u001b[1m\u001b[0m\u001b[32m - Clipping bbox ymax from 775 to image height 774 (Before: <BBox (xmin:75, ymin:15, xmax:708, ymax:775)>)\u001b[0m | \u001b[36micevision.utils.logger_utils\u001b[0m:\u001b[36mautofix_log\u001b[0m:\u001b[36m17\u001b[0m\n",
      "\u001b[32m\u001b[1mAUTOFIX-SUCCESS\u001b[0m\u001b[32m\u001b[0m - \u001b[32m\u001b[1m\u001b[31m(record_id: 2082)\u001b[0m\u001b[32m\u001b[1m\u001b[0m\u001b[32m - Clipping bbox xmin from -1 to 0 (Before: <BBox (xmin:-1, ymin:177, xmax:104, ymax:276)>)\u001b[0m | \u001b[36micevision.utils.logger_utils\u001b[0m:\u001b[36mautofix_log\u001b[0m:\u001b[36m17\u001b[0m\n",
      "\u001b[32m\u001b[1mAUTOFIX-SUCCESS\u001b[0m\u001b[32m\u001b[0m - \u001b[32m\u001b[1m\u001b[31m(record_id: 2138)\u001b[0m\u001b[32m\u001b[1m\u001b[0m\u001b[32m - Clipping bbox xmax from 1030 to image width 1024 (Before: <BBox (xmin:834, ymin:186, xmax:1030, ymax:556)>)\u001b[0m | \u001b[36micevision.utils.logger_utils\u001b[0m:\u001b[36mautofix_log\u001b[0m:\u001b[36m17\u001b[0m\n",
      "\u001b[32m\u001b[1mAUTOFIX-SUCCESS\u001b[0m\u001b[32m\u001b[0m - \u001b[32m\u001b[1m\u001b[31m(record_id: 1102)\u001b[0m\u001b[32m\u001b[1m\u001b[0m\u001b[32m - Clipping bbox xmin from -2 to 0 (Before: <BBox (xmin:-2, ymin:294, xmax:199, ymax:417)>)\u001b[0m | \u001b[36micevision.utils.logger_utils\u001b[0m:\u001b[36mautofix_log\u001b[0m:\u001b[36m17\u001b[0m\n"
     ]
    },
    {
     "data": {
      "application/vnd.jupyter.widget-view+json": {
       "model_id": "772188a3021642ee98e755a529a5f8fb",
       "version_major": 2,
       "version_minor": 0
      },
      "text/plain": [
       "  0%|          | 0/463 [00:00<?, ?it/s]"
      ]
     },
     "metadata": {},
     "output_type": "display_data"
    },
    {
     "name": "stderr",
     "output_type": "stream",
     "text": [
      "\u001b[32m\u001b[1mAUTOFIX-SUCCESS\u001b[0m\u001b[32m\u001b[0m - \u001b[32m\u001b[1m\u001b[31m(record_id: 391)\u001b[0m\u001b[32m\u001b[1m\u001b[0m\u001b[32m - Clipping bbox xmax from 641 to image width 640 (Before: <BBox (xmin:578, ymin:133, xmax:641, ymax:241)>)\u001b[0m | \u001b[36micevision.utils.logger_utils\u001b[0m:\u001b[36mautofix_log\u001b[0m:\u001b[36m17\u001b[0m\n",
      "\u001b[32m\u001b[1mAUTOFIX-SUCCESS\u001b[0m\u001b[32m\u001b[0m - \u001b[32m\u001b[1m\u001b[31m(record_id: 2098)\u001b[0m\u001b[32m\u001b[1m\u001b[0m\u001b[32m - Clipping bbox xmax from 501 to image width 500 (Before: <BBox (xmin:439, ymin:202, xmax:501, ymax:270)>)\u001b[0m | \u001b[36micevision.utils.logger_utils\u001b[0m:\u001b[36mautofix_log\u001b[0m:\u001b[36m17\u001b[0m\n",
      "\u001b[32m\u001b[1mAUTOFIX-SUCCESS\u001b[0m\u001b[32m\u001b[0m - \u001b[32m\u001b[1m\u001b[31m(record_id: 2098)\u001b[0m\u001b[32m\u001b[1m\u001b[0m\u001b[32m - Clipping bbox xmax from 501 to image width 500 (Before: <BBox (xmin:447, ymin:243, xmax:501, ymax:324)>)\u001b[0m | \u001b[36micevision.utils.logger_utils\u001b[0m:\u001b[36mautofix_log\u001b[0m:\u001b[36m17\u001b[0m\n",
      "\u001b[32m\u001b[1mAUTOFIX-SUCCESS\u001b[0m\u001b[32m\u001b[0m - \u001b[32m\u001b[1m\u001b[31m(record_id: 93)\u001b[0m\u001b[32m\u001b[1m\u001b[0m\u001b[32m - Clipping bbox ymax from 376 to image height 375 (Before: <BBox (xmin:146, ymin:259, xmax:354, ymax:376)>)\u001b[0m | \u001b[36micevision.utils.logger_utils\u001b[0m:\u001b[36mautofix_log\u001b[0m:\u001b[36m17\u001b[0m\n",
      "\u001b[32m\u001b[1mAUTOFIX-SUCCESS\u001b[0m\u001b[32m\u001b[0m - \u001b[32m\u001b[1m\u001b[31m(record_id: 971)\u001b[0m\u001b[32m\u001b[1m\u001b[0m\u001b[32m - Clipping bbox ymax from 376 to image height 375 (Before: <BBox (xmin:19, ymin:191, xmax:149, ymax:376)>)\u001b[0m | \u001b[36micevision.utils.logger_utils\u001b[0m:\u001b[36mautofix_log\u001b[0m:\u001b[36m17\u001b[0m\n",
      "\u001b[32m\u001b[1mAUTOFIX-SUCCESS\u001b[0m\u001b[32m\u001b[0m - \u001b[32m\u001b[1m\u001b[31m(record_id: 2182)\u001b[0m\u001b[32m\u001b[1m\u001b[0m\u001b[32m - Clipping bbox xmax from 501 to image width 500 (Before: <BBox (xmin:436, ymin:185, xmax:501, ymax:259)>)\u001b[0m | \u001b[36micevision.utils.logger_utils\u001b[0m:\u001b[36mautofix_log\u001b[0m:\u001b[36m17\u001b[0m\n"
     ]
    }
   ],
   "source": [
    "IMG_SIZE=384\n",
    "# data_dir = exdark.load_data()\n",
    "data_dir = Path(\"/Users/rahulsomani/datasets/ExDark-Trimmed/\")\n",
    "parser = exdark.parser(data_dir)\n",
    "train_ds, valid_ds = exdark.dataset(\n",
    "    data_dir = data_dir,\n",
    "    size = IMG_SIZE,\n",
    "    data_splitter = RandomSplitter([0.8, 0.2])\n",
    ")"
   ]
  },
  {
   "cell_type": "code",
   "execution_count": 4,
   "id": "aggregate-protocol",
   "metadata": {},
   "outputs": [],
   "source": [
    "dl_train = train_dl(train_ds)\n",
    "dl_valid = valid_dl(valid_ds)"
   ]
  },
  {
   "cell_type": "code",
   "execution_count": 5,
   "id": "textile-reproduction",
   "metadata": {},
   "outputs": [
    {
     "name": "stderr",
     "output_type": "stream",
     "text": [
      "\u001b[33m\u001b[1m\u001b[1mWARNING \u001b[0m\u001b[33m\u001b[1m\u001b[0m - \u001b[33m\u001b[1mIncompatible `num_fpn_features=512` detected in task 'lighting'. Replacing with the correct dimensions: 896\u001b[0m | \u001b[36micevision.models.multitask.ultralytics.yolov5.yolo_hybrid\u001b[0m:\u001b[36mbuild_classifier_heads\u001b[0m:\u001b[36m180\u001b[0m\n",
      "\u001b[33m\u001b[1m\u001b[1mWARNING \u001b[0m\u001b[33m\u001b[1m\u001b[0m - \u001b[33m\u001b[1mIncompatible `num_fpn_features=512` detected in task 'location'. Replacing with the correct dimensions: 896\u001b[0m | \u001b[36micevision.models.multitask.ultralytics.yolov5.yolo_hybrid\u001b[0m:\u001b[36mbuild_classifier_heads\u001b[0m:\u001b[36m180\u001b[0m\n",
      "\u001b[32m\u001b[1m\u001b[1mSUCCESS \u001b[0m\u001b[32m\u001b[1m\u001b[0m - \u001b[32m\u001b[1mBuilt classifier heads successfully\u001b[0m | \u001b[36micevision.models.multitask.ultralytics.yolov5.yolo_hybrid\u001b[0m:\u001b[36mbuild_classifier_heads\u001b[0m:\u001b[36m188\u001b[0m\n",
      "\u001b[1m\u001b[1mINFO    \u001b[0m\u001b[1m\u001b[0m - \u001b[1mOverriding model.yaml nc=80 with nc=12\u001b[0m | \u001b[36micevision.models.multitask.ultralytics.yolov5.yolo_hybrid\u001b[0m:\u001b[36m__init__\u001b[0m:\u001b[36m119\u001b[0m\n",
      "\u001b[32m\u001b[1m\u001b[1mSUCCESS \u001b[0m\u001b[32m\u001b[1m\u001b[0m - \u001b[32m\u001b[1mBuilt *yolov5s* model successfully\u001b[0m | \u001b[36micevision.models.multitask.ultralytics.yolov5.yolo_hybrid\u001b[0m:\u001b[36m__init__\u001b[0m:\u001b[36m150\u001b[0m\n"
     ]
    }
   ],
   "source": [
    "hybrid_model = model(\n",
    "    backbone=backbones.small(),\n",
    "    num_detection_classes=len(parser.CLASS_MAPS['detection']),\n",
    "    classifier_configs={\n",
    "        name: ClassifierConfig(out_classes=len(cm))\n",
    "        for name, cm in parser.CLASS_MAPS.items() if not name==\"detection\"\n",
    "    },\n",
    "    img_size=IMG_SIZE,\n",
    ")\n"
   ]
  },
  {
   "cell_type": "code",
   "execution_count": 6,
   "id": "noticed-variation",
   "metadata": {},
   "outputs": [],
   "source": [
    "from torch import optim\n",
    "import pytorch_lightning as pl\n",
    "\n",
    "class LightModel(lightning.HybridYOLOV5LightningAdapter):\n",
    "    def configure_optimizers(self):\n",
    "        return optim.Adam(self.parameters(), lr=3e-4)\n",
    "\n",
    "pl_model = LightModel(\n",
    "    model=hybrid_model,\n",
    "    metrics=None,\n",
    ")"
   ]
  },
  {
   "cell_type": "code",
   "execution_count": 9,
   "id": "reflected-section",
   "metadata": {},
   "outputs": [
    {
     "name": "stderr",
     "output_type": "stream",
     "text": [
      "GPU available: False, used: False\n",
      "TPU available: False, using: 0 TPU cores\n"
     ]
    },
    {
     "data": {
      "text/plain": [
       "<pytorch_lightning.trainer.trainer.Trainer at 0x7ff0abd0fc90>"
      ]
     },
     "execution_count": 9,
     "metadata": {},
     "output_type": "execute_result"
    }
   ],
   "source": [
    "trainer = pl.Trainer(max_epochs=3, gpus=[0])\n",
    "trainer = pl.Trainer(\n",
    "    max_epochs=3,\n",
    "    # limit_train_batches=10,\n",
    "    # limit_val_batches=2,\n",
    ")\n",
    "trainer"
   ]
  },
  {
   "cell_type": "code",
   "execution_count": null,
   "id": "foreign-munich",
   "metadata": {},
   "outputs": [],
   "source": [
    "trainer.fit(pl_model, dl_train, dl_valid)"
   ]
  },
  {
   "cell_type": "code",
   "execution_count": null,
   "id": "geological-immune",
   "metadata": {},
   "outputs": [],
   "source": []
  },
  {
   "cell_type": "code",
   "execution_count": null,
   "id": "australian-fantasy",
   "metadata": {},
   "outputs": [],
   "source": []
  },
  {
   "cell_type": "code",
   "execution_count": null,
   "id": "political-referral",
   "metadata": {},
   "outputs": [],
   "source": []
  },
  {
   "cell_type": "code",
   "execution_count": null,
   "id": "suspended-angle",
   "metadata": {},
   "outputs": [],
   "source": []
  },
  {
   "cell_type": "code",
   "execution_count": null,
   "id": "structured-plate",
   "metadata": {},
   "outputs": [],
   "source": []
  },
  {
   "cell_type": "code",
   "execution_count": null,
   "id": "northern-parcel",
   "metadata": {},
   "outputs": [],
   "source": []
  },
  {
   "cell_type": "code",
   "execution_count": null,
   "id": "indirect-savannah",
   "metadata": {},
   "outputs": [],
   "source": []
  }
 ],
 "metadata": {
  "kernelspec": {
   "display_name": "det",
   "language": "python",
   "name": "det"
  },
  "language_info": {
   "codemirror_mode": {
    "name": "ipython",
    "version": 3
   },
   "file_extension": ".py",
   "mimetype": "text/x-python",
   "name": "python",
   "nbconvert_exporter": "python",
   "pygments_lexer": "ipython3",
   "version": "3.7.9"
  },
  "varInspector": {
   "cols": {
    "lenName": 16,
    "lenType": 16,
    "lenVar": 40
   },
   "kernels_config": {
    "python": {
     "delete_cmd_postfix": "",
     "delete_cmd_prefix": "del ",
     "library": "var_list.py",
     "varRefreshCmd": "print(var_dic_list())"
    },
    "r": {
     "delete_cmd_postfix": ") ",
     "delete_cmd_prefix": "rm(",
     "library": "var_list.r",
     "varRefreshCmd": "cat(var_dic_list()) "
    }
   },
   "types_to_exclude": [
    "module",
    "function",
    "builtin_function_or_method",
    "instance",
    "_Feature"
   ],
   "window_display": false
  }
 },
 "nbformat": 4,
 "nbformat_minor": 5
}
