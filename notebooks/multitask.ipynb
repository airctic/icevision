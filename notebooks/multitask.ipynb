{
 "cells": [
  {
   "cell_type": "code",
   "execution_count": null,
   "id": "3a909b36",
   "metadata": {},
   "outputs": [],
   "source": [
    "%load_ext autoreload\n",
    "%autoreload 2"
   ]
  },
  {
   "cell_type": "code",
   "execution_count": null,
   "id": "9bcfe126",
   "metadata": {},
   "outputs": [],
   "source": [
    "from icevision.imports import *\n",
    "from icevision.models.multitask.ultralytics.yolov5 import *\n",
    "from icevision.data.data_splitter import *\n",
    "from icevision.visualize import *\n",
    "from icevision.metrics import *\n",
    "\n",
    "import icedata.datasets.exdark_trimmed as exdark"
   ]
  },
  {
   "cell_type": "markdown",
   "id": "ce2db1e1",
   "metadata": {},
   "source": [
    "#### Regular Dataset"
   ]
  },
  {
   "cell_type": "code",
   "execution_count": null,
   "id": "02713d8d",
   "metadata": {},
   "outputs": [],
   "source": [
    "IMG_SIZE=512\n",
    "data_dir = exdark.load_data()\n",
    "data_dir = Path(\"/Users/rahulsomani/datasets/ExDark-Trimmed/\")\n",
    "parser = exdark.parser(data_dir)\n",
    "\n",
    "train_records, valid_records = parser.parse(data_splitter=RandomSplitter([0.8, 0.2]))\n",
    "train_tfms = tfms.A.Adapter(\n",
    "    [\n",
    "        *tfms.A.aug_tfms(size=IMG_SIZE, lightning=None),\n",
    "        tfms.A.Normalize(),\n",
    "    ]\n",
    ")\n",
    "valid_tfms = tfms.A.Adapter([*tfms.A.resize_and_pad(IMG_SIZE), tfms.A.Normalize()])\n",
    "\n",
    "train_ds = Dataset(train_records, tfm=train_tfms)\n",
    "valid_ds = Dataset(valid_records, tfm=valid_tfms)"
   ]
  },
  {
   "cell_type": "code",
   "execution_count": null,
   "id": "7bd020e0",
   "metadata": {},
   "outputs": [],
   "source": [
    "dl_train = train_dl(train_ds, batch_size=32)\n",
    "dl_valid = valid_dl(valid_ds, batch_size=64)"
   ]
  },
  {
   "cell_type": "markdown",
   "id": "4f577bcc",
   "metadata": {},
   "source": [
    "#### Multi Augmentation Dataset"
   ]
  },
  {
   "cell_type": "code",
   "execution_count": null,
   "id": "6af5e084",
   "metadata": {},
   "outputs": [],
   "source": [
    "from icevision.models.multitask.data.dataset import HybridAugmentationsRecordDataset\n",
    "import torchvision.transforms as Tfms"
   ]
  },
  {
   "cell_type": "code",
   "execution_count": null,
   "id": "60d54941",
   "metadata": {},
   "outputs": [],
   "source": [
    "detection_train_transforms = tfms.A.Adapter(\n",
    "    [\n",
    "        # tfms.A.Normalize(),  # NOTE: Normalizing happens inside the `Dataset` itself\n",
    "        tfms.A.Resize(height=IMG_SIZE, width=IMG_SIZE),\n",
    "        tfms.A.RandomSizedBBoxSafeCrop(\n",
    "            width=IMG_SIZE, height=IMG_SIZE, erosion_rate=0.2\n",
    "        ),\n",
    "        # tfms.A.PadIfNeeded(IMG_HEIGHT, IMG_WIDTH, border_mode=cv2.BORDER_CONSTANT),\n",
    "        tfms.A.ChannelDropout(p=0.05),\n",
    "        tfms.A.HorizontalFlip(p=0.5),\n",
    "        tfms.A.VerticalFlip(p=0.2),\n",
    "        tfms.A.ColorJitter(p=0.3),  # This may destroy some information for lighting\n",
    "        tfms.A.JpegCompression(p=0.1),\n",
    "    ]\n",
    ")\n",
    "\n",
    "valid_transforms = tfms.A.Adapter(\n",
    "    [\n",
    "        tfms.A.Normalize(),\n",
    "        tfms.A.Resize(height=IMG_SIZE, width=IMG_SIZE),\n",
    "    ]\n",
    ")\n"
   ]
  },
  {
   "cell_type": "code",
   "execution_count": null,
   "id": "99c68ac0",
   "metadata": {},
   "outputs": [],
   "source": [
    "classification_tfms = dict(\n",
    "    group_1=dict(\n",
    "        tasks=[\"lighting\"],\n",
    "        transforms=Tfms.Compose(\n",
    "            [\n",
    "                Tfms.RandomPerspective(),\n",
    "                Tfms.Resize((IMG_SIZE, IMG_SIZE)),\n",
    "                Tfms.RandomHorizontalFlip(),\n",
    "                Tfms.RandomVerticalFlip(),\n",
    "                Tfms.RandomAffine(degrees=20),\n",
    "                Tfms.RandomAutocontrast(),\n",
    "            ]\n",
    "        )\n",
    "    ),\n",
    "    group_2=dict(\n",
    "        tasks=[\"location\"],\n",
    "        transforms=Tfms.Compose(\n",
    "            [\n",
    "                Tfms.RandomPerspective(),\n",
    "                Tfms.Resize((IMG_SIZE, IMG_SIZE)),\n",
    "                Tfms.RandomHorizontalFlip(),\n",
    "                Tfms.RandomVerticalFlip(),\n",
    "                Tfms.RandomAffine(degrees=20),\n",
    "                Tfms.RandomAutocontrast(),\n",
    "                Tfms.RandomChoice(\n",
    "                    [Tfms.ColorJitter(), Tfms.RandomGrayscale(), Tfms.RandomEqualize()]\n",
    "                ),\n",
    "            ]\n",
    "        )\n",
    "    )\n",
    ")"
   ]
  },
  {
   "cell_type": "code",
   "execution_count": null,
   "id": "8f64157d",
   "metadata": {},
   "outputs": [],
   "source": [
    "train_ds = HybridAugmentationsRecordDataset(\n",
    "    records=train_records,\n",
    "    classification_transforms_groups=classification_tfms,\n",
    "    detection_transforms=detection_train_transforms,\n",
    ")\n",
    "valid_ds = Dataset(valid_records, tfm=valid_transforms)"
   ]
  },
  {
   "cell_type": "code",
   "execution_count": null,
   "id": "8257640d",
   "metadata": {},
   "outputs": [],
   "source": [
    "train_ds"
   ]
  },
  {
   "cell_type": "code",
   "execution_count": null,
   "id": "2659baa6",
   "metadata": {},
   "outputs": [],
   "source": [
    "train_ds[2]"
   ]
  },
  {
   "cell_type": "code",
   "execution_count": null,
   "id": "119791cf",
   "metadata": {},
   "outputs": [],
   "source": [
    "valid_ds[0]"
   ]
  },
  {
   "cell_type": "code",
   "execution_count": null,
   "id": "c0064494",
   "metadata": {},
   "outputs": [],
   "source": [
    "dl_train = train_dl_multi_aug(train_ds, classification_tfms, batch_size=8)\n",
    "dl_valid = valid_dl(valid_ds, batch_size=8)"
   ]
  },
  {
   "cell_type": "markdown",
   "id": "3840e81e",
   "metadata": {},
   "source": [
    "### Model"
   ]
  },
  {
   "cell_type": "code",
   "execution_count": null,
   "id": "cac65c58",
   "metadata": {},
   "outputs": [],
   "source": [
    "hybrid_model = model(\n",
    "    backbone=backbones.small(pretrained=True),\n",
    "    # backbone=backbones.large(pretrained=True),\n",
    "    num_detection_classes=len(parser.CLASS_MAPS['detection']),\n",
    "    classifier_configs={\n",
    "        name: ClassifierConfig(out_classes=len(cm))\n",
    "        for name, cm in parser.CLASS_MAPS.items() if not name==\"detection\"\n",
    "    },\n",
    "    img_size=IMG_SIZE,\n",
    ")\n"
   ]
  },
  {
   "cell_type": "code",
   "execution_count": null,
   "id": "25f8d008",
   "metadata": {},
   "outputs": [],
   "source": [
    "from torch import optim\n",
    "import pytorch_lightning as pl\n",
    "\n",
    "class LightModel(lightning.HybridYOLOV5LightningAdapter):\n",
    "    def configure_optimizers(self):\n",
    "        return optim.Adam(self.parameters(), lr=1e-4)\n",
    "\n",
    "pl_model = LightModel(\n",
    "    model=hybrid_model,\n",
    "    metrics=[COCOMetric(metric_type=COCOMetricType.bbox)],\n",
    ")"
   ]
  },
  {
   "cell_type": "code",
   "execution_count": null,
   "id": "317995e3",
   "metadata": {},
   "outputs": [],
   "source": [
    "trainer = pl.Trainer(max_epochs=20, gpus=[0])\n",
    "trainer"
   ]
  },
  {
   "cell_type": "code",
   "execution_count": null,
   "id": "eeb20f86",
   "metadata": {},
   "outputs": [],
   "source": [
    "trainer.fit(pl_model, dl_train, dl_valid)"
   ]
  },
  {
   "cell_type": "code",
   "execution_count": null,
   "id": "ad93fcdd",
   "metadata": {},
   "outputs": [],
   "source": []
  },
  {
   "cell_type": "markdown",
   "id": "ce718acc",
   "metadata": {},
   "source": [
    "---"
   ]
  },
  {
   "cell_type": "code",
   "execution_count": null,
   "id": "c1d7c7e9",
   "metadata": {},
   "outputs": [],
   "source": [
    "from icevision.models.multitask.ultralytics.yolov5.prediction import *"
   ]
  },
  {
   "cell_type": "code",
   "execution_count": null,
   "id": "a5ff993a",
   "metadata": {},
   "outputs": [],
   "source": [
    "valid_ds = Dataset(valid_records[:20], tfm=valid_tfms)"
   ]
  },
  {
   "cell_type": "code",
   "execution_count": null,
   "id": "4ed84e62",
   "metadata": {},
   "outputs": [],
   "source": [
    "preds = predict(\n",
    "    model=pl_model.model,\n",
    "    dataset=valid_ds,\n",
    "    detection_threshold=0.4,\n",
    "    keep_images=True,\n",
    ")"
   ]
  },
  {
   "cell_type": "code",
   "execution_count": null,
   "id": "0782f8f9",
   "metadata": {},
   "outputs": [],
   "source": [
    "draw_sample = partial(draw_sample, denormalize_fn=denormalize_imagenet, return_as_pil_img=True)"
   ]
  },
  {
   "cell_type": "code",
   "execution_count": null,
   "id": "6f2a8ec7",
   "metadata": {},
   "outputs": [],
   "source": [
    "import fastcore.all as fastcore\n",
    "import PIL\n",
    "import PIL.Image\n",
    "\n",
    "@fastcore.patch\n",
    "def __or__(self: PIL.Image.Image, other: PIL.Image.Image):\n",
    "    \"Horizontally stack two PIL Images\"\n",
    "    assert isinstance(other, PIL.Image.Image)\n",
    "    widths, heights = zip(*(i.size for i in [self, other]))\n",
    "\n",
    "    new_img = PIL.Image.new(\"RGB\", (sum(widths), max(heights)))\n",
    "    x_offset = 0\n",
    "    for img in [self, other]:\n",
    "        new_img.paste(img, (x_offset, 0))\n",
    "        x_offset += img.size[0]\n",
    "    return new_img"
   ]
  },
  {
   "cell_type": "code",
   "execution_count": null,
   "id": "5f826796",
   "metadata": {},
   "outputs": [],
   "source": [
    "pred = preds[19]\n",
    "p, gt = pred.pred, pred.ground_truth\n",
    "\n",
    "draw_sample(gt) | draw_sample(p)"
   ]
  },
  {
   "cell_type": "code",
   "execution_count": null,
   "id": "f7c50992",
   "metadata": {},
   "outputs": [],
   "source": []
  }
 ],
 "metadata": {
  "kernelspec": {
   "display_name": "Python 3",
   "language": "python",
   "name": "python3"
  },
  "language_info": {
   "codemirror_mode": {
    "name": "ipython",
    "version": 3
   },
   "file_extension": ".py",
   "mimetype": "text/x-python",
   "name": "python",
   "nbconvert_exporter": "python",
   "pygments_lexer": "ipython3",
   "version": "3.7.10"
  },
  "varInspector": {
   "cols": {
    "lenName": 16,
    "lenType": 16,
    "lenVar": 40
   },
   "kernels_config": {
    "python": {
     "delete_cmd_postfix": "",
     "delete_cmd_prefix": "del ",
     "library": "var_list.py",
     "varRefreshCmd": "print(var_dic_list())"
    },
    "r": {
     "delete_cmd_postfix": ") ",
     "delete_cmd_prefix": "rm(",
     "library": "var_list.r",
     "varRefreshCmd": "cat(var_dic_list()) "
    }
   },
   "types_to_exclude": [
    "module",
    "function",
    "builtin_function_or_method",
    "instance",
    "_Feature"
   ],
   "window_display": false
  }
 },
 "nbformat": 4,
 "nbformat_minor": 5
}
