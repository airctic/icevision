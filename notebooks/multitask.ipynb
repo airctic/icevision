{
 "cells": [
  {
   "cell_type": "code",
   "execution_count": null,
   "id": "9aa70ed4",
   "metadata": {},
   "outputs": [],
   "source": [
    "%load_ext autoreload\n",
    "%autoreload 2"
   ]
  },
  {
   "cell_type": "code",
   "execution_count": null,
   "id": "45afd0ba",
   "metadata": {},
   "outputs": [],
   "source": [
    "from icevision.imports import *\n",
    "from icevision.models.multitask.ultralytics.yolov5 import *\n",
    "from icevision.data.data_splitter import *\n",
    "from icevision.visualize import *\n",
    "from icevision.metrics import *\n",
    "\n",
    "import icedata.datasets.exdark_trimmed as exdark"
   ]
  },
  {
   "cell_type": "code",
   "execution_count": null,
   "id": "718faafa",
   "metadata": {},
   "outputs": [],
   "source": [
    "IMG_SIZE=512\n",
    "data_dir = exdark.load_data()\n",
    "parser = exdark.parser(data_dir)\n",
    "\n",
    "train_records, valid_records = parser.parse(data_splitter=RandomSplitter([0.8, 0.2]))\n",
    "train_tfms = tfms.A.Adapter(\n",
    "    [\n",
    "        *tfms.A.aug_tfms(size=IMG_SIZE, lightning=None),\n",
    "        tfms.A.Normalize(),\n",
    "    ]\n",
    ")\n",
    "valid_tfms = tfms.A.Adapter([*tfms.A.resize_and_pad(IMG_SIZE), tfms.A.Normalize()])\n",
    "\n",
    "train_ds = Dataset(train_records, tfm=train_tfms)\n",
    "valid_ds = Dataset(valid_records, tfm=valid_tfms)"
   ]
  },
  {
   "cell_type": "raw",
   "id": "eaf8842c",
   "metadata": {},
   "source": [
    "train_ds, valid_ds = exdark.dataset(\n",
    "    data_dir = data_dir,\n",
    "    size = IMG_SIZE,\n",
    "    data_splitter = RandomSplitter([0.8, 0.2])\n",
    ")"
   ]
  },
  {
   "cell_type": "code",
   "execution_count": null,
   "id": "cdfcbe51",
   "metadata": {},
   "outputs": [],
   "source": [
    "dl_train = train_dl(train_ds, batch_size=32)\n",
    "dl_valid = valid_dl(valid_ds, batch_size=64)"
   ]
  },
  {
   "cell_type": "code",
   "execution_count": null,
   "id": "8a9171f9",
   "metadata": {},
   "outputs": [],
   "source": [
    "hybrid_model = model(\n",
    "    backbone=backbones.large(pretrained=True),\n",
    "    num_detection_classes=len(parser.CLASS_MAPS['detection']),\n",
    "    classifier_configs={\n",
    "        name: ClassifierConfig(out_classes=len(cm))\n",
    "        for name, cm in parser.CLASS_MAPS.items() if not name==\"detection\"\n",
    "    },\n",
    "    img_size=IMG_SIZE,\n",
    ")\n"
   ]
  },
  {
   "cell_type": "code",
   "execution_count": null,
   "id": "25f8d008",
   "metadata": {},
   "outputs": [],
   "source": [
    "from torch import optim\n",
    "import pytorch_lightning as pl\n",
    "\n",
    "class LightModel(lightning.HybridYOLOV5LightningAdapter):\n",
    "    def configure_optimizers(self):\n",
    "        return optim.Adam(self.parameters(), lr=1e-4)\n",
    "\n",
    "pl_model = LightModel(\n",
    "    model=hybrid_model,\n",
    "    metrics=[COCOMetric(metric_type=COCOMetricType.bbox)],\n",
    ")"
   ]
  },
  {
   "cell_type": "code",
   "execution_count": null,
   "id": "317995e3",
   "metadata": {},
   "outputs": [],
   "source": [
    "trainer = pl.Trainer(max_epochs=20, gpus=[0])\n",
    "trainer"
   ]
  },
  {
   "cell_type": "code",
   "execution_count": null,
   "id": "eeb20f86",
   "metadata": {},
   "outputs": [],
   "source": [
    "trainer.fit(pl_model, dl_train, dl_valid)"
   ]
  },
  {
   "cell_type": "code",
   "execution_count": null,
   "id": "ad93fcdd",
   "metadata": {},
   "outputs": [],
   "source": []
  },
  {
   "cell_type": "markdown",
   "id": "ce718acc",
   "metadata": {},
   "source": [
    "---"
   ]
  },
  {
   "cell_type": "code",
   "execution_count": null,
   "id": "c1d7c7e9",
   "metadata": {},
   "outputs": [],
   "source": [
    "from icevision.models.multitask.ultralytics.yolov5.prediction import *"
   ]
  },
  {
   "cell_type": "code",
   "execution_count": null,
   "id": "a5ff993a",
   "metadata": {},
   "outputs": [],
   "source": [
    "valid_ds = Dataset(valid_records[:20], tfm=valid_tfms)"
   ]
  },
  {
   "cell_type": "code",
   "execution_count": null,
   "id": "4ed84e62",
   "metadata": {},
   "outputs": [],
   "source": [
    "preds = predict(\n",
    "    model=pl_model.model,\n",
    "    dataset=valid_ds,\n",
    "    detection_threshold=0.4,\n",
    "    keep_images=True,\n",
    ")"
   ]
  },
  {
   "cell_type": "code",
   "execution_count": null,
   "id": "0782f8f9",
   "metadata": {},
   "outputs": [],
   "source": [
    "draw_sample = partial(draw_sample, denormalize_fn=denormalize_imagenet, return_as_pil_img=True)"
   ]
  },
  {
   "cell_type": "code",
   "execution_count": null,
   "id": "6f2a8ec7",
   "metadata": {},
   "outputs": [],
   "source": [
    "import fastcore.all as fastcore\n",
    "import PIL\n",
    "import PIL.Image\n",
    "\n",
    "@fastcore.patch\n",
    "def __or__(self: PIL.Image.Image, other: PIL.Image.Image):\n",
    "    \"Horizontally stack two PIL Images\"\n",
    "    assert isinstance(other, PIL.Image.Image)\n",
    "    widths, heights = zip(*(i.size for i in [self, other]))\n",
    "\n",
    "    new_img = PIL.Image.new(\"RGB\", (sum(widths), max(heights)))\n",
    "    x_offset = 0\n",
    "    for img in [self, other]:\n",
    "        new_img.paste(img, (x_offset, 0))\n",
    "        x_offset += img.size[0]\n",
    "    return new_img"
   ]
  },
  {
   "cell_type": "code",
   "execution_count": null,
   "id": "5f826796",
   "metadata": {},
   "outputs": [],
   "source": [
    "pred = preds[19]\n",
    "p, gt = pred.pred, pred.ground_truth\n",
    "\n",
    "draw_sample(gt) | draw_sample(p)"
   ]
  },
  {
   "cell_type": "code",
   "execution_count": null,
   "id": "f7c50992",
   "metadata": {},
   "outputs": [],
   "source": []
  }
 ],
 "metadata": {
  "kernelspec": {
   "display_name": "Python 3",
   "language": "python",
   "name": "python3"
  },
  "language_info": {
   "codemirror_mode": {
    "name": "ipython",
    "version": 3
   },
   "file_extension": ".py",
   "mimetype": "text/x-python",
   "name": "python",
   "nbconvert_exporter": "python",
   "pygments_lexer": "ipython3",
   "version": "3.8.8"
  },
  "varInspector": {
   "cols": {
    "lenName": 16,
    "lenType": 16,
    "lenVar": 40
   },
   "kernels_config": {
    "python": {
     "delete_cmd_postfix": "",
     "delete_cmd_prefix": "del ",
     "library": "var_list.py",
     "varRefreshCmd": "print(var_dic_list())"
    },
    "r": {
     "delete_cmd_postfix": ") ",
     "delete_cmd_prefix": "rm(",
     "library": "var_list.r",
     "varRefreshCmd": "cat(var_dic_list()) "
    }
   },
   "types_to_exclude": [
    "module",
    "function",
    "builtin_function_or_method",
    "instance",
    "_Feature"
   ],
   "window_display": false
  }
 },
 "nbformat": 4,
 "nbformat_minor": 5
}
