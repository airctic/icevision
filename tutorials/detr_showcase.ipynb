{
 "cells": [
  {
   "cell_type": "markdown",
   "metadata": {
    "colab_type": "text",
    "id": "uqHEGzBcYUUL"
   },
   "source": [
    "# Pluggable mantisshrimp (DETR showcase)"
   ]
  },
  {
   "cell_type": "markdown",
   "metadata": {
    "colab_type": "text",
    "id": "VGASnKMvz9wg"
   },
   "source": [
    "Check out this tutorial in [colab](https://colab.research.google.com/github/lgvaz/mantisshrimp/blob/master/tutorials/hub_detr_finetune_pennfundan.ipynb) with no setup required!\n"
   ]
  },
  {
   "cell_type": "markdown",
   "metadata": {},
   "source": [
    "Normaly we use mantisshrimp as an end to end library, but it's also possible to use only a specific part of it, in this case the Parser API.  \n",
    "\n",
    "In this tutorial, we are going to train a model using the original [DETR source code](https://github.com/facebookresearch/detr) with the flexibility of mantisshrimp Parser API!"
   ]
  },
  {
   "cell_type": "markdown",
   "metadata": {
    "colab_type": "text",
    "id": "OkVXmfArYUUN"
   },
   "source": [
    "We will be working with the Penn-Fundan dataset. The same dataset used for the pytorch [maskrcnn tutorial](https://pytorch.org/tutorials/intermediate/torchvision_tutorial.html)."
   ]
  },
  {
   "cell_type": "markdown",
   "metadata": {
    "colab_type": "text",
    "id": "CrZwT9g2YUUO"
   },
   "source": [
    "## Dependencies"
   ]
  },
  {
   "cell_type": "markdown",
   "metadata": {
    "colab_type": "text",
    "id": "RXeob_yTZZx5"
   },
   "source": [
    "Run the following commands for installing the dependencies if running on Google Colab(remove the `!` if running on terminal)."
   ]
  },
  {
   "cell_type": "code",
   "execution_count": null,
   "metadata": {
    "colab": {},
    "colab_type": "code",
    "id": "MEaU5i6AYb_j"
   },
   "outputs": [],
   "source": [
    "!pip install git+git://github.com/lgvaz/mantisshrimp.git\n",
    "!pip install -U 'git+https://github.com/cocodataset/cocoapi.git#subdirectory=PythonAPI'\n",
    "!pip install seaborn"
   ]
  },
  {
   "cell_type": "markdown",
   "metadata": {
    "colab_type": "text",
    "id": "vb2M9De8YUUR"
   },
   "source": [
    "## Imports"
   ]
  },
  {
   "cell_type": "code",
   "execution_count": null,
   "metadata": {
    "colab": {},
    "colab_type": "code",
    "id": "NlPjnRACYUUT"
   },
   "outputs": [],
   "source": [
    "from mantisshrimp.imports import *\n",
    "from mantisshrimp import *"
   ]
  },
  {
   "cell_type": "markdown",
   "metadata": {
    "colab_type": "text",
    "id": "vyWETVJpaLqH"
   },
   "source": [
    "## The Data"
   ]
  },
  {
   "cell_type": "markdown",
   "metadata": {
    "colab_type": "text",
    "id": "5aqQMkyoamgd"
   },
   "source": [
    "In Mantisshrimp hub we have a helper function that will automatically download and extract the data for us. (This will be moved to `datasets`)"
   ]
  },
  {
   "cell_type": "code",
   "execution_count": null,
   "metadata": {
    "colab": {},
    "colab_type": "code",
    "id": "Hu9ubvJ4aOQi"
   },
   "outputs": [],
   "source": [
    "from mantisshrimp.hub.pennfundan import *"
   ]
  },
  {
   "cell_type": "code",
   "execution_count": null,
   "metadata": {
    "colab": {
     "base_uri": "https://localhost:8080/",
     "height": 49,
     "referenced_widgets": [
      "9f4d397131f74fc2af1b70db421539dc",
      "8e951641a4164d6abff5f1ef3a22ec3f",
      "0d62f5fd4e344d858dac61bf4fc02ea5",
      "71b64857495343ccb1c456d043096e76",
      "782683a00fc14e15ba43291197418b73",
      "5888d9dca028449badeeab71001ebc4f",
      "690d9bc62bba4ad2ba06e365b3f72038",
      "d14fdfe838d84cc3bd56a42dc2d922bc"
     ]
    },
    "colab_type": "code",
    "id": "hEbNF0qiabuT",
    "outputId": "fb07df83-4a83-4ece-d0db-de877117f8bf"
   },
   "outputs": [
    {
     "data": {
      "application/vnd.jupyter.widget-view+json": {
       "model_id": "9f4d397131f74fc2af1b70db421539dc",
       "version_major": 2,
       "version_minor": 0
      },
      "text/plain": [
       "HBox(children=(FloatProgress(value=0.0, max=53723336.0), HTML(value='')))"
      ]
     },
     "metadata": {
      "tags": []
     },
     "output_type": "display_data"
    }
   ],
   "source": [
    "source = get_pennfundan_data()"
   ]
  },
  {
   "cell_type": "markdown",
   "metadata": {
    "colab_type": "text",
    "id": "YILJzVjsYUUm"
   },
   "source": [
    "## Parser"
   ]
  },
  {
   "cell_type": "markdown",
   "metadata": {
    "colab_type": "text",
    "id": "nVy1yvTua_DE"
   },
   "source": [
    "Also in hub, we already have a pre-defined parser for this dataset, if you want to learn more on how to create a custom parser, check the [Parser tutorial](https://lgvaz.github.io/mantisshrimp/tutorials/parser.html). (Will also be moved from `hub` to `datasets`)"
   ]
  },
  {
   "cell_type": "code",
   "execution_count": null,
   "metadata": {
    "colab": {},
    "colab_type": "code",
    "id": "p5XgVulTbNZx"
   },
   "outputs": [],
   "source": [
    "parser = PennFundanParser(source)"
   ]
  },
  {
   "cell_type": "markdown",
   "metadata": {
    "colab_type": "text",
    "id": "Fa4R_Gp-YUUm"
   },
   "source": [
    "Now we use our `Parser` to, well, parse our data!  \n",
    "\n",
    "Define what kind of train/validation split we want, in this case, let's make a random split with 80% of the data in the training set and 20% on the validation."
   ]
  },
  {
   "cell_type": "code",
   "execution_count": null,
   "metadata": {
    "colab": {},
    "colab_type": "code",
    "id": "-BKhwq7dYUUt"
   },
   "outputs": [],
   "source": [
    "data_splitter = RandomSplitter([0.8, 0.2])"
   ]
  },
  {
   "cell_type": "markdown",
   "metadata": {
    "colab_type": "text",
    "id": "B_TqWX7yYUUy"
   },
   "source": [
    "And now we are ready to parse!"
   ]
  },
  {
   "cell_type": "code",
   "execution_count": null,
   "metadata": {
    "colab": {
     "base_uri": "https://localhost:8080/",
     "height": 66,
     "referenced_widgets": [
      "512ff0b5bc9c41e581149969fc353313",
      "7fc77ac6c8b64deaacb258689a1a1e34",
      "6fbe33b6bbe24949b9128919ffca97fb",
      "de3eaef947ff477697a6d4bf0d36859f",
      "38bd992c9c6849d0b879bb410b729206",
      "682384ea4cc24c26bf55d300562505d1",
      "473a88d051cf4bf19a89f8cedb4dbd06",
      "e212247c1b5e46e4add6b61c5887c75c"
     ]
    },
    "colab_type": "code",
    "id": "6p_CCf_CYUUy",
    "outputId": "839ca920-47fe-44da-9a5a-446c9965faf5"
   },
   "outputs": [
    {
     "data": {
      "application/vnd.jupyter.widget-view+json": {
       "model_id": "512ff0b5bc9c41e581149969fc353313",
       "version_major": 2,
       "version_minor": 0
      },
      "text/plain": [
       "HBox(children=(FloatProgress(value=1.0, bar_style='info', max=1.0), HTML(value='')))"
      ]
     },
     "metadata": {
      "tags": []
     },
     "output_type": "display_data"
    },
    {
     "name": "stdout",
     "output_type": "stream",
     "text": [
      "\n"
     ]
    }
   ],
   "source": [
    "train_rs, valid_rs = parser.parse(data_splitter)"
   ]
  },
  {
   "cell_type": "markdown",
   "metadata": {
    "colab_type": "text",
    "id": "vy7MdJofgCC4"
   },
   "source": [
    "## Transforms"
   ]
  },
  {
   "cell_type": "markdown",
   "metadata": {
    "colab_type": "text",
    "id": "KmX60R1yb-RT"
   },
   "source": [
    "Everything that is required to train `Detr` is inside the `hub.detr` module, so let's import that."
   ]
  },
  {
   "cell_type": "code",
   "execution_count": null,
   "metadata": {
    "colab": {},
    "colab_type": "code",
    "id": "WB-8XDuJb8sA"
   },
   "outputs": [],
   "source": [
    "from mantisshrimp.hub.detr import *"
   ]
  },
  {
   "cell_type": "markdown",
   "metadata": {
    "colab_type": "text",
    "id": "hig30tExYUU4"
   },
   "source": [
    "Mantisshrimp is agnostic to transforms, so we will use the exact same transforms that the authors of Detr used (it's even from their code!)."
   ]
  },
  {
   "cell_type": "code",
   "execution_count": null,
   "metadata": {
    "colab": {},
    "colab_type": "code",
    "id": "QPElOxNxYUU4"
   },
   "outputs": [],
   "source": [
    "train_tfm = detr_transform(\"train\")\n",
    "valid_tfm = detr_transform(\"val\")"
   ]
  },
  {
   "cell_type": "markdown",
   "metadata": {
    "colab_type": "text",
    "id": "bg4r_B5IYUU8"
   },
   "source": [
    "We create our `Dataset` as always, passing the records and the transforms.  \n",
    "\n",
    "The only difference is that this time we're using the specialized `DetrDataset`."
   ]
  },
  {
   "cell_type": "code",
   "execution_count": null,
   "metadata": {
    "colab": {},
    "colab_type": "code",
    "id": "vA4n6BkSYUU8"
   },
   "outputs": [],
   "source": [
    "train_dataset = DetrDataset(train_rs, train_tfm)\n",
    "valid_dataset = DetrDataset(valid_rs, valid_tfm)"
   ]
  },
  {
   "cell_type": "markdown",
   "metadata": {
    "colab_type": "text",
    "id": "2getK43jYUU_"
   },
   "source": [
    "## Train"
   ]
  },
  {
   "cell_type": "markdown",
   "metadata": {
    "colab_type": "text",
    "id": "CDS8YyzcYUVB"
   },
   "source": [
    "Now, just a little trick for using the original script (that uses argparse, meant for command line usage).\n",
    "\n",
    "We'll parse the arguments passing an empty string, and then assign the values we want to modify one by one."
   ]
  },
  {
   "cell_type": "code",
   "execution_count": null,
   "metadata": {
    "colab": {},
    "colab_type": "code",
    "id": "3ZoI2SNeYUVC"
   },
   "outputs": [],
   "source": [
    "args_parser = detr_args_parser()\n",
    "args = args_parser.parse_args(\"\")"
   ]
  },
  {
   "cell_type": "code",
   "execution_count": null,
   "metadata": {
    "colab": {},
    "colab_type": "code",
    "id": "T-9UYso0YUVV"
   },
   "outputs": [],
   "source": [
    "args.num_classes = 2\n",
    "args.epochs = 2\n",
    "args.batch_size = 4\n",
    "args.train_only_head = True"
   ]
  },
  {
   "cell_type": "markdown",
   "metadata": {
    "colab_type": "text",
    "id": "mwRdzmOQYUV3"
   },
   "source": [
    "<div class=\"alert alert-info\">\n",
    "    \n",
    "**Note:**  \n",
    "\n",
    "Make sure `output_dir` exists, else we have errors.\n",
    "    \n",
    "</div>"
   ]
  },
  {
   "cell_type": "code",
   "execution_count": null,
   "metadata": {
    "colab": {},
    "colab_type": "code",
    "id": "XRnMBqMLYUV4"
   },
   "outputs": [],
   "source": [
    "output_dir = Path('logs/run1')\n",
    "output_dir.mkdir(exist_ok=True, parents=True)\n",
    "args.output_dir = str(output_dir)"
   ]
  },
  {
   "cell_type": "markdown",
   "metadata": {
    "colab_type": "text",
    "id": "x1WCtAlzYUWO"
   },
   "source": [
    "<div class=\"alert alert-warning\">\n",
    "    \n",
    "**Important:**  \n",
    "    \n",
    "For fine-tuning, we resume from a previous checkpoint where the weights of the class head have been deleted.\n",
    "    \n",
    "</div>"
   ]
  },
  {
   "cell_type": "code",
   "execution_count": null,
   "metadata": {
    "colab": {
     "base_uri": "https://localhost:8080/",
     "height": 54
    },
    "colab_type": "code",
    "id": "_WAe6LccYUWQ",
    "outputId": "6a26e01f-b0ee-4221-af8f-9fe13d717092"
   },
   "outputs": [
    {
     "name": "stderr",
     "output_type": "stream",
     "text": [
      "Downloading: \"https://dl.fbaipublicfiles.com/detr/detr-r50-e632da11.pth\" to /root/.cache/torch/checkpoints/detr-r50-e632da11.pth\n"
     ]
    }
   ],
   "source": [
    "args.resume = detr_pretrained_checkpoint_base()"
   ]
  },
  {
   "cell_type": "markdown",
   "metadata": {
    "colab_type": "text",
    "id": "7mXWpDW5YUWg"
   },
   "source": [
    "The final step is to call `run_detr` with the parsed args and the datasets.  \n",
    "\n",
    "`run_detr` is just an alias that points to the original `main.py` script."
   ]
  },
  {
   "cell_type": "code",
   "execution_count": null,
   "metadata": {
    "colab": {
     "base_uri": "https://localhost:8080/",
     "height": 1000,
     "referenced_widgets": [
      "09ba2259202440cd8921633191716dab",
      "bedd3107632542848bd2721344958545",
      "7972d22ec6564af3b0214c664dc46e57",
      "07abab309c3544678b681ed90e9ab325",
      "aea05129b0f340b3835bb4d85699baac",
      "7ddc1f0b178e44478200744c4e3b4991",
      "9c582d52b73840a29b49c022339aa4c1",
      "68407a7bf9274dd986b3da6d8f6ef9a4",
      "425baacd9da347c880c5423a2b4ffe8e",
      "9bacb8f5f6f241d5b5bc6a95aedb187e",
      "fb9ce6905ae346aa9117343267f79586",
      "50bb730e7aa440fa933f3606358785db",
      "ba9ae4d6051a49188e8dcfce7cc21d02",
      "0d29427b2a134604ae603f44c44b56de",
      "dd4b761ae9814d6b9b2bbde79a2f63ac",
      "8ca9a27bf6604a18bac882d8d33481f2"
     ]
    },
    "colab_type": "code",
    "id": "XEyRG9FQYUWh",
    "outputId": "d9a12466-c7b0-4646-9ece-8a98cc4eb991"
   },
   "outputs": [
    {
     "name": "stdout",
     "output_type": "stream",
     "text": [
      "Not using distributed mode\n",
      "git:\n",
      "  sha: N/A, status: clean, branch: N/A\n",
      "\n",
      "Namespace(aux_loss=True, backbone='resnet50', batch_size=4, bbox_loss_coef=5, clip_max_norm=0.1, coco_panoptic_path=None, coco_path=None, dataset_file='coco', dec_layers=6, device='cuda', dice_loss_coef=1, dilation=False, dim_feedforward=2048, dist_url='env://', distributed=False, dropout=0.1, enc_layers=6, eos_coef=0.1, epochs=2, eval=False, frozen_weights=None, giou_loss_coef=2, hidden_dim=256, lr=0.0001, lr_backbone=1e-05, lr_drop=200, mask_loss_coef=1, masks=False, nheads=8, num_classes=2, num_queries=100, num_workers=2, output_dir='logs/run1', position_embedding='sine', pre_norm=False, remove_difficult=False, resume='/root/.cache/torch/detr-r50_no-class-head.pth', seed=42, set_cost_bbox=5, set_cost_class=1, set_cost_giou=2, start_epoch=0, train_only_head=True, weight_decay=0.0001, world_size=1)\n"
     ]
    },
    {
     "name": "stderr",
     "output_type": "stream",
     "text": [
      "Downloading: \"https://download.pytorch.org/models/resnet50-19c8e357.pth\" to /root/.cache/torch/checkpoints/resnet50-19c8e357.pth\n"
     ]
    },
    {
     "data": {
      "application/vnd.jupyter.widget-view+json": {
       "model_id": "09ba2259202440cd8921633191716dab",
       "version_major": 2,
       "version_minor": 0
      },
      "text/plain": [
       "HBox(children=(FloatProgress(value=0.0, max=102502400.0), HTML(value='')))"
      ]
     },
     "metadata": {
      "tags": []
     },
     "output_type": "display_data"
    },
    {
     "name": "stdout",
     "output_type": "stream",
     "text": [
      "\n",
      "number of params: 41279495\n"
     ]
    },
    {
     "data": {
      "application/vnd.jupyter.widget-view+json": {
       "model_id": "425baacd9da347c880c5423a2b4ffe8e",
       "version_major": 2,
       "version_minor": 0
      },
      "text/plain": [
       "HBox(children=(FloatProgress(value=0.0, max=34.0), HTML(value='')))"
      ]
     },
     "metadata": {
      "tags": []
     },
     "output_type": "display_data"
    },
    {
     "name": "stdout",
     "output_type": "stream",
     "text": [
      "\n",
      "creating index...\n",
      "index created!\n",
      "Start training\n",
      "Epoch: [0]  [ 0/34]  eta: 0:00:33  lr: 0.000100  class_error: 0.00  loss: 9.8023 (9.8023)  loss_ce: 1.3289 (1.3289)  loss_bbox: 0.1444 (0.1444)  loss_giou: 0.1564 (0.1564)  loss_ce_0: 1.2595 (1.2595)  loss_bbox_0: 0.1479 (0.1479)  loss_giou_0: 0.1503 (0.1503)  loss_ce_1: 1.3334 (1.3334)  loss_bbox_1: 0.1569 (0.1569)  loss_giou_1: 0.1687 (0.1687)  loss_ce_2: 1.3434 (1.3434)  loss_bbox_2: 0.1602 (0.1602)  loss_giou_2: 0.1605 (0.1605)  loss_ce_3: 1.3434 (1.3434)  loss_bbox_3: 0.1400 (0.1400)  loss_giou_3: 0.1518 (0.1518)  loss_ce_4: 1.3576 (1.3576)  loss_bbox_4: 0.1439 (0.1439)  loss_giou_4: 0.1549 (0.1549)  loss_ce_unscaled: 1.3289 (1.3289)  class_error_unscaled: 0.0000 (0.0000)  loss_bbox_unscaled: 0.0289 (0.0289)  loss_giou_unscaled: 0.0782 (0.0782)  cardinality_error_unscaled: 93.0000 (93.0000)  loss_ce_0_unscaled: 1.2595 (1.2595)  loss_bbox_0_unscaled: 0.0296 (0.0296)  loss_giou_0_unscaled: 0.0751 (0.0751)  cardinality_error_0_unscaled: 88.5000 (88.5000)  loss_ce_1_unscaled: 1.3334 (1.3334)  loss_bbox_1_unscaled: 0.0314 (0.0314)  loss_giou_1_unscaled: 0.0844 (0.0844)  cardinality_error_1_unscaled: 92.7500 (92.7500)  loss_ce_2_unscaled: 1.3434 (1.3434)  loss_bbox_2_unscaled: 0.0320 (0.0320)  loss_giou_2_unscaled: 0.0803 (0.0803)  cardinality_error_2_unscaled: 93.2500 (93.2500)  loss_ce_3_unscaled: 1.3434 (1.3434)  loss_bbox_3_unscaled: 0.0280 (0.0280)  loss_giou_3_unscaled: 0.0759 (0.0759)  cardinality_error_3_unscaled: 92.7500 (92.7500)  loss_ce_4_unscaled: 1.3576 (1.3576)  loss_bbox_4_unscaled: 0.0288 (0.0288)  loss_giou_4_unscaled: 0.0775 (0.0775)  cardinality_error_4_unscaled: 93.5000 (93.5000)  time: 0.9938  data: 0.4316  max mem: 765\n",
      "Epoch: [0]  [10/34]  eta: 0:00:09  lr: 0.000100  class_error: 0.00  loss: 10.6994 (10.7542)  loss_ce: 1.4772 (1.4495)  loss_bbox: 0.1400 (0.1583)  loss_giou: 0.1822 (0.1920)  loss_ce_0: 1.3822 (1.3629)  loss_bbox_0: 0.1673 (0.1716)  loss_giou_0: 0.2033 (0.2198)  loss_ce_1: 1.4721 (1.4414)  loss_bbox_1: 0.1475 (0.1564)  loss_giou_1: 0.1938 (0.1947)  loss_ce_2: 1.4954 (1.4510)  loss_bbox_2: 0.1494 (0.1569)  loss_giou_2: 0.1915 (0.1961)  loss_ce_3: 1.4648 (1.4383)  loss_bbox_3: 0.1405 (0.1554)  loss_giou_3: 0.1906 (0.1925)  loss_ce_4: 1.4804 (1.4658)  loss_bbox_4: 0.1415 (0.1588)  loss_giou_4: 0.1810 (0.1928)  loss_ce_unscaled: 1.4772 (1.4495)  class_error_unscaled: 0.0000 (0.0000)  loss_bbox_unscaled: 0.0280 (0.0317)  loss_giou_unscaled: 0.0911 (0.0960)  cardinality_error_unscaled: 95.7500 (95.7273)  loss_ce_0_unscaled: 1.3822 (1.3629)  loss_bbox_0_unscaled: 0.0335 (0.0343)  loss_giou_0_unscaled: 0.1016 (0.1099)  cardinality_error_0_unscaled: 93.2500 (93.2955)  loss_ce_1_unscaled: 1.4721 (1.4414)  loss_bbox_1_unscaled: 0.0295 (0.0313)  loss_giou_1_unscaled: 0.0969 (0.0974)  cardinality_error_1_unscaled: 96.0000 (95.6364)  loss_ce_2_unscaled: 1.4954 (1.4510)  loss_bbox_2_unscaled: 0.0299 (0.0314)  loss_giou_2_unscaled: 0.0958 (0.0980)  cardinality_error_2_unscaled: 96.2500 (95.7045)  loss_ce_3_unscaled: 1.4648 (1.4383)  loss_bbox_3_unscaled: 0.0281 (0.0311)  loss_giou_3_unscaled: 0.0953 (0.0962)  cardinality_error_3_unscaled: 96.0000 (95.6364)  loss_ce_4_unscaled: 1.4804 (1.4658)  loss_bbox_4_unscaled: 0.0283 (0.0318)  loss_giou_4_unscaled: 0.0905 (0.0964)  cardinality_error_4_unscaled: 96.2500 (95.9091)  time: 0.4003  data: 0.0602  max mem: 1111\n",
      "Epoch: [0]  [20/34]  eta: 0:00:05  lr: 0.000100  class_error: 0.00  loss: 10.5138 (10.4765)  loss_ce: 1.3708 (1.3810)  loss_bbox: 0.1484 (0.1659)  loss_giou: 0.1996 (0.2006)  loss_ce_0: 1.2897 (1.3044)  loss_bbox_0: 0.1681 (0.1820)  loss_giou_0: 0.2115 (0.2209)  loss_ce_1: 1.3761 (1.3809)  loss_bbox_1: 0.1532 (0.1712)  loss_giou_1: 0.1946 (0.2065)  loss_ce_2: 1.3677 (1.3829)  loss_bbox_2: 0.1540 (0.1708)  loss_giou_2: 0.1931 (0.2097)  loss_ce_3: 1.3520 (1.3684)  loss_bbox_3: 0.1599 (0.1692)  loss_giou_3: 0.1940 (0.1987)  loss_ce_4: 1.3850 (1.3957)  loss_bbox_4: 0.1578 (0.1687)  loss_giou_4: 0.2020 (0.1992)  loss_ce_unscaled: 1.3708 (1.3810)  class_error_unscaled: 0.0000 (0.0000)  loss_bbox_unscaled: 0.0297 (0.0332)  loss_giou_unscaled: 0.0998 (0.1003)  cardinality_error_unscaled: 95.2500 (94.5357)  loss_ce_0_unscaled: 1.2897 (1.3044)  loss_bbox_0_unscaled: 0.0336 (0.0364)  loss_giou_0_unscaled: 0.1057 (0.1104)  cardinality_error_0_unscaled: 91.5000 (91.3214)  loss_ce_1_unscaled: 1.3761 (1.3809)  loss_bbox_1_unscaled: 0.0306 (0.0342)  loss_giou_1_unscaled: 0.0973 (0.1033)  cardinality_error_1_unscaled: 94.5000 (94.2500)  loss_ce_2_unscaled: 1.3677 (1.3829)  loss_bbox_2_unscaled: 0.0308 (0.0342)  loss_giou_2_unscaled: 0.0966 (0.1048)  cardinality_error_2_unscaled: 94.5000 (94.6190)  loss_ce_3_unscaled: 1.3520 (1.3684)  loss_bbox_3_unscaled: 0.0320 (0.0338)  loss_giou_3_unscaled: 0.0970 (0.0993)  cardinality_error_3_unscaled: 95.2500 (94.4167)  loss_ce_4_unscaled: 1.3850 (1.3957)  loss_bbox_4_unscaled: 0.0316 (0.0337)  loss_giou_4_unscaled: 0.1010 (0.0996)  cardinality_error_4_unscaled: 95.5000 (94.7500)  time: 0.3295  data: 0.0242  max mem: 1201\n",
      "Epoch: [0]  [30/34]  eta: 0:00:01  lr: 0.000100  class_error: 0.00  loss: 9.5682 (10.1228)  loss_ce: 1.2500 (1.3333)  loss_bbox: 0.1603 (0.1665)  loss_giou: 0.1671 (0.1843)  loss_ce_0: 1.1919 (1.2615)  loss_bbox_0: 0.1936 (0.1895)  loss_giou_0: 0.1911 (0.2135)  loss_ce_1: 1.2470 (1.3311)  loss_bbox_1: 0.1692 (0.1727)  loss_giou_1: 0.1758 (0.1948)  loss_ce_2: 1.2567 (1.3359)  loss_bbox_2: 0.1656 (0.1718)  loss_giou_2: 0.1775 (0.1940)  loss_ce_3: 1.2325 (1.3218)  loss_bbox_3: 0.1650 (0.1704)  loss_giou_3: 0.1626 (0.1825)  loss_ce_4: 1.2644 (1.3480)  loss_bbox_4: 0.1595 (0.1683)  loss_giou_4: 0.1637 (0.1831)  loss_ce_unscaled: 1.2500 (1.3333)  class_error_unscaled: 0.0000 (0.0000)  loss_bbox_unscaled: 0.0321 (0.0333)  loss_giou_unscaled: 0.0836 (0.0922)  cardinality_error_unscaled: 93.5000 (94.1210)  loss_ce_0_unscaled: 1.1919 (1.2615)  loss_bbox_0_unscaled: 0.0387 (0.0379)  loss_giou_0_unscaled: 0.0956 (0.1067)  cardinality_error_0_unscaled: 89.5000 (90.8710)  loss_ce_1_unscaled: 1.2470 (1.3311)  loss_bbox_1_unscaled: 0.0338 (0.0345)  loss_giou_1_unscaled: 0.0879 (0.0974)  cardinality_error_1_unscaled: 93.7500 (94.1532)  loss_ce_2_unscaled: 1.2567 (1.3359)  loss_bbox_2_unscaled: 0.0331 (0.0344)  loss_giou_2_unscaled: 0.0887 (0.0970)  cardinality_error_2_unscaled: 93.5000 (94.4194)  loss_ce_3_unscaled: 1.2325 (1.3218)  loss_bbox_3_unscaled: 0.0330 (0.0341)  loss_giou_3_unscaled: 0.0813 (0.0913)  cardinality_error_3_unscaled: 93.5000 (94.1371)  loss_ce_4_unscaled: 1.2644 (1.3480)  loss_bbox_4_unscaled: 0.0319 (0.0337)  loss_giou_4_unscaled: 0.0819 (0.0915)  cardinality_error_4_unscaled: 93.2500 (94.3629)  time: 0.3176  data: 0.0258  max mem: 1423\n",
      "Epoch: [0]  [33/34]  eta: 0:00:00  lr: 0.000100  class_error: 0.00  loss: 9.1420 (9.9911)  loss_ce: 1.2342 (1.3136)  loss_bbox: 0.1603 (0.1658)  loss_giou: 0.1572 (0.1825)  loss_ce_0: 1.1662 (1.2445)  loss_bbox_0: 0.1858 (0.1876)  loss_giou_0: 0.1900 (0.2107)  loss_ce_1: 1.2222 (1.3117)  loss_bbox_1: 0.1679 (0.1717)  loss_giou_1: 0.1730 (0.1923)  loss_ce_2: 1.2395 (1.3166)  loss_bbox_2: 0.1656 (0.1719)  loss_giou_2: 0.1609 (0.1918)  loss_ce_3: 1.2291 (1.3020)  loss_bbox_3: 0.1608 (0.1701)  loss_giou_3: 0.1605 (0.1820)  loss_ce_4: 1.2475 (1.3281)  loss_bbox_4: 0.1578 (0.1672)  loss_giou_4: 0.1480 (0.1809)  loss_ce_unscaled: 1.2342 (1.3136)  class_error_unscaled: 0.0000 (0.0000)  loss_bbox_unscaled: 0.0321 (0.0332)  loss_giou_unscaled: 0.0786 (0.0912)  cardinality_error_unscaled: 92.5000 (93.8750)  loss_ce_0_unscaled: 1.1662 (1.2445)  loss_bbox_0_unscaled: 0.0372 (0.0375)  loss_giou_0_unscaled: 0.0950 (0.1054)  cardinality_error_0_unscaled: 88.5000 (90.5221)  loss_ce_1_unscaled: 1.2222 (1.3117)  loss_bbox_1_unscaled: 0.0336 (0.0343)  loss_giou_1_unscaled: 0.0865 (0.0962)  cardinality_error_1_unscaled: 93.2500 (93.8971)  loss_ce_2_unscaled: 1.2395 (1.3166)  loss_bbox_2_unscaled: 0.0331 (0.0344)  loss_giou_2_unscaled: 0.0804 (0.0959)  cardinality_error_2_unscaled: 93.0000 (94.0956)  loss_ce_3_unscaled: 1.2291 (1.3020)  loss_bbox_3_unscaled: 0.0322 (0.0340)  loss_giou_3_unscaled: 0.0802 (0.0910)  cardinality_error_3_unscaled: 92.2500 (93.8088)  loss_ce_4_unscaled: 1.2475 (1.3281)  loss_bbox_4_unscaled: 0.0316 (0.0334)  loss_giou_4_unscaled: 0.0740 (0.0905)  cardinality_error_4_unscaled: 92.5000 (94.0956)  time: 0.3043  data: 0.0259  max mem: 1423\n",
      "Epoch: [0] Total time: 0:00:11 (0.3384 s / it)\n",
      "Averaged stats: lr: 0.000100  class_error: 0.00  loss: 9.1420 (9.9911)  loss_ce: 1.2342 (1.3136)  loss_bbox: 0.1603 (0.1658)  loss_giou: 0.1572 (0.1825)  loss_ce_0: 1.1662 (1.2445)  loss_bbox_0: 0.1858 (0.1876)  loss_giou_0: 0.1900 (0.2107)  loss_ce_1: 1.2222 (1.3117)  loss_bbox_1: 0.1679 (0.1717)  loss_giou_1: 0.1730 (0.1923)  loss_ce_2: 1.2395 (1.3166)  loss_bbox_2: 0.1656 (0.1719)  loss_giou_2: 0.1609 (0.1918)  loss_ce_3: 1.2291 (1.3020)  loss_bbox_3: 0.1608 (0.1701)  loss_giou_3: 0.1605 (0.1820)  loss_ce_4: 1.2475 (1.3281)  loss_bbox_4: 0.1578 (0.1672)  loss_giou_4: 0.1480 (0.1809)  loss_ce_unscaled: 1.2342 (1.3136)  class_error_unscaled: 0.0000 (0.0000)  loss_bbox_unscaled: 0.0321 (0.0332)  loss_giou_unscaled: 0.0786 (0.0912)  cardinality_error_unscaled: 92.5000 (93.8750)  loss_ce_0_unscaled: 1.1662 (1.2445)  loss_bbox_0_unscaled: 0.0372 (0.0375)  loss_giou_0_unscaled: 0.0950 (0.1054)  cardinality_error_0_unscaled: 88.5000 (90.5221)  loss_ce_1_unscaled: 1.2222 (1.3117)  loss_bbox_1_unscaled: 0.0336 (0.0343)  loss_giou_1_unscaled: 0.0865 (0.0962)  cardinality_error_1_unscaled: 93.2500 (93.8971)  loss_ce_2_unscaled: 1.2395 (1.3166)  loss_bbox_2_unscaled: 0.0331 (0.0344)  loss_giou_2_unscaled: 0.0804 (0.0959)  cardinality_error_2_unscaled: 93.0000 (94.0956)  loss_ce_3_unscaled: 1.2291 (1.3020)  loss_bbox_3_unscaled: 0.0322 (0.0340)  loss_giou_3_unscaled: 0.0802 (0.0910)  cardinality_error_3_unscaled: 92.2500 (93.8088)  loss_ce_4_unscaled: 1.2475 (1.3281)  loss_bbox_4_unscaled: 0.0316 (0.0334)  loss_giou_4_unscaled: 0.0740 (0.0905)  cardinality_error_4_unscaled: 92.5000 (94.0956)\n",
      "Test:  [0/9]  eta: 0:00:09  class_error: 0.00  loss: 8.2944 (8.2944)  loss_ce: 1.1051 (1.1051)  loss_bbox: 0.1224 (0.1224)  loss_giou: 0.1754 (0.1754)  loss_ce_0: 1.0357 (1.0357)  loss_bbox_0: 0.1278 (0.1278)  loss_giou_0: 0.1804 (0.1804)  loss_ce_1: 1.0944 (1.0944)  loss_bbox_1: 0.1235 (0.1235)  loss_giou_1: 0.1567 (0.1567)  loss_ce_2: 1.0955 (1.0955)  loss_bbox_2: 0.1246 (0.1246)  loss_giou_2: 0.1646 (0.1646)  loss_ce_3: 1.0885 (1.0885)  loss_bbox_3: 0.1207 (0.1207)  loss_giou_3: 0.1701 (0.1701)  loss_ce_4: 1.1136 (1.1136)  loss_bbox_4: 0.1207 (0.1207)  loss_giou_4: 0.1747 (0.1747)  loss_ce_unscaled: 1.1051 (1.1051)  class_error_unscaled: 0.0000 (0.0000)  loss_bbox_unscaled: 0.0245 (0.0245)  loss_giou_unscaled: 0.0877 (0.0877)  cardinality_error_unscaled: 82.5000 (82.5000)  loss_ce_0_unscaled: 1.0357 (1.0357)  loss_bbox_0_unscaled: 0.0256 (0.0256)  loss_giou_0_unscaled: 0.0902 (0.0902)  cardinality_error_0_unscaled: 80.0000 (80.0000)  loss_ce_1_unscaled: 1.0944 (1.0944)  loss_bbox_1_unscaled: 0.0247 (0.0247)  loss_giou_1_unscaled: 0.0784 (0.0784)  cardinality_error_1_unscaled: 83.7500 (83.7500)  loss_ce_2_unscaled: 1.0955 (1.0955)  loss_bbox_2_unscaled: 0.0249 (0.0249)  loss_giou_2_unscaled: 0.0823 (0.0823)  cardinality_error_2_unscaled: 82.2500 (82.2500)  loss_ce_3_unscaled: 1.0885 (1.0885)  loss_bbox_3_unscaled: 0.0241 (0.0241)  loss_giou_3_unscaled: 0.0851 (0.0851)  cardinality_error_3_unscaled: 82.0000 (82.0000)  loss_ce_4_unscaled: 1.1136 (1.1136)  loss_bbox_4_unscaled: 0.0241 (0.0241)  loss_giou_4_unscaled: 0.0873 (0.0873)  cardinality_error_4_unscaled: 82.7500 (82.7500)  time: 1.0887  data: 0.4815  max mem: 1423\n",
      "Test:  [8/9]  eta: 0:00:00  class_error: 0.00  loss: 8.3378 (8.3594)  loss_ce: 1.1309 (1.1183)  loss_bbox: 0.1479 (0.1398)  loss_giou: 0.1509 (0.1460)  loss_ce_0: 1.0350 (1.0194)  loss_bbox_0: 0.1710 (0.1605)  loss_giou_0: 0.1779 (0.1666)  loss_ce_1: 1.1209 (1.1092)  loss_bbox_1: 0.1453 (0.1423)  loss_giou_1: 0.1459 (0.1475)  loss_ce_2: 1.1366 (1.1184)  loss_bbox_2: 0.1287 (0.1404)  loss_giou_2: 0.1498 (0.1444)  loss_ce_3: 1.1212 (1.1115)  loss_bbox_3: 0.1477 (0.1395)  loss_giou_3: 0.1500 (0.1422)  loss_ce_4: 1.1444 (1.1329)  loss_bbox_4: 0.1471 (0.1379)  loss_giou_4: 0.1517 (0.1427)  loss_ce_unscaled: 1.1309 (1.1183)  class_error_unscaled: 0.0000 (0.0000)  loss_bbox_unscaled: 0.0296 (0.0280)  loss_giou_unscaled: 0.0755 (0.0730)  cardinality_error_unscaled: 87.5000 (86.6944)  loss_ce_0_unscaled: 1.0350 (1.0194)  loss_bbox_0_unscaled: 0.0342 (0.0321)  loss_giou_0_unscaled: 0.0889 (0.0833)  cardinality_error_0_unscaled: 81.5000 (79.2778)  loss_ce_1_unscaled: 1.1209 (1.1092)  loss_bbox_1_unscaled: 0.0291 (0.0285)  loss_giou_1_unscaled: 0.0729 (0.0737)  cardinality_error_1_unscaled: 88.5000 (86.7222)  loss_ce_2_unscaled: 1.1366 (1.1184)  loss_bbox_2_unscaled: 0.0257 (0.0281)  loss_giou_2_unscaled: 0.0749 (0.0722)  cardinality_error_2_unscaled: 88.0000 (86.5278)  loss_ce_3_unscaled: 1.1212 (1.1115)  loss_bbox_3_unscaled: 0.0295 (0.0279)  loss_giou_3_unscaled: 0.0750 (0.0711)  cardinality_error_3_unscaled: 86.5000 (86.4167)  loss_ce_4_unscaled: 1.1444 (1.1329)  loss_bbox_4_unscaled: 0.0294 (0.0276)  loss_giou_4_unscaled: 0.0759 (0.0714)  cardinality_error_4_unscaled: 88.0000 (87.0833)  time: 0.4203  data: 0.0773  max mem: 1445\n",
      "Test: Total time: 0:00:03 (0.4256 s / it)\n",
      "Averaged stats: class_error: 0.00  loss: 8.3378 (8.3594)  loss_ce: 1.1309 (1.1183)  loss_bbox: 0.1479 (0.1398)  loss_giou: 0.1509 (0.1460)  loss_ce_0: 1.0350 (1.0194)  loss_bbox_0: 0.1710 (0.1605)  loss_giou_0: 0.1779 (0.1666)  loss_ce_1: 1.1209 (1.1092)  loss_bbox_1: 0.1453 (0.1423)  loss_giou_1: 0.1459 (0.1475)  loss_ce_2: 1.1366 (1.1184)  loss_bbox_2: 0.1287 (0.1404)  loss_giou_2: 0.1498 (0.1444)  loss_ce_3: 1.1212 (1.1115)  loss_bbox_3: 0.1477 (0.1395)  loss_giou_3: 0.1500 (0.1422)  loss_ce_4: 1.1444 (1.1329)  loss_bbox_4: 0.1471 (0.1379)  loss_giou_4: 0.1517 (0.1427)  loss_ce_unscaled: 1.1309 (1.1183)  class_error_unscaled: 0.0000 (0.0000)  loss_bbox_unscaled: 0.0296 (0.0280)  loss_giou_unscaled: 0.0755 (0.0730)  cardinality_error_unscaled: 87.5000 (86.6944)  loss_ce_0_unscaled: 1.0350 (1.0194)  loss_bbox_0_unscaled: 0.0342 (0.0321)  loss_giou_0_unscaled: 0.0889 (0.0833)  cardinality_error_0_unscaled: 81.5000 (79.2778)  loss_ce_1_unscaled: 1.1209 (1.1092)  loss_bbox_1_unscaled: 0.0291 (0.0285)  loss_giou_1_unscaled: 0.0729 (0.0737)  cardinality_error_1_unscaled: 88.5000 (86.7222)  loss_ce_2_unscaled: 1.1366 (1.1184)  loss_bbox_2_unscaled: 0.0257 (0.0281)  loss_giou_2_unscaled: 0.0749 (0.0722)  cardinality_error_2_unscaled: 88.0000 (86.5278)  loss_ce_3_unscaled: 1.1212 (1.1115)  loss_bbox_3_unscaled: 0.0295 (0.0279)  loss_giou_3_unscaled: 0.0750 (0.0711)  cardinality_error_3_unscaled: 86.5000 (86.4167)  loss_ce_4_unscaled: 1.1444 (1.1329)  loss_bbox_4_unscaled: 0.0294 (0.0276)  loss_giou_4_unscaled: 0.0759 (0.0714)  cardinality_error_4_unscaled: 88.0000 (87.0833)\n",
      "Accumulating evaluation results...\n",
      "DONE (t=0.03s).\n",
      "IoU metric: bbox\n",
      " Average Precision  (AP) @[ IoU=0.50:0.95 | area=   all | maxDets=100 ] = 0.472\n",
      " Average Precision  (AP) @[ IoU=0.50      | area=   all | maxDets=100 ] = 0.551\n",
      " Average Precision  (AP) @[ IoU=0.75      | area=   all | maxDets=100 ] = 0.543\n",
      " Average Precision  (AP) @[ IoU=0.50:0.95 | area= small | maxDets=100 ] = -1.000\n",
      " Average Precision  (AP) @[ IoU=0.50:0.95 | area=medium | maxDets=100 ] = 0.195\n",
      " Average Precision  (AP) @[ IoU=0.50:0.95 | area= large | maxDets=100 ] = 0.713\n",
      " Average Recall     (AR) @[ IoU=0.50:0.95 | area=   all | maxDets=  1 ] = 0.334\n",
      " Average Recall     (AR) @[ IoU=0.50:0.95 | area=   all | maxDets= 10 ] = 0.762\n",
      " Average Recall     (AR) @[ IoU=0.50:0.95 | area=   all | maxDets=100 ] = 0.903\n",
      " Average Recall     (AR) @[ IoU=0.50:0.95 | area= small | maxDets=100 ] = -1.000\n",
      " Average Recall     (AR) @[ IoU=0.50:0.95 | area=medium | maxDets=100 ] = 0.756\n",
      " Average Recall     (AR) @[ IoU=0.50:0.95 | area= large | maxDets=100 ] = 0.922\n",
      "Epoch: [1]  [ 0/34]  eta: 0:00:26  lr: 0.000100  class_error: 0.00  loss: 8.4983 (8.4983)  loss_ce: 1.0311 (1.0311)  loss_bbox: 0.1733 (0.1733)  loss_giou: 0.2026 (0.2026)  loss_ce_0: 0.9692 (0.9692)  loss_bbox_0: 0.2113 (0.2113)  loss_giou_0: 0.2367 (0.2367)  loss_ce_1: 1.0233 (1.0233)  loss_bbox_1: 0.1972 (0.1972)  loss_giou_1: 0.2134 (0.2134)  loss_ce_2: 1.0234 (1.0234)  loss_bbox_2: 0.1910 (0.1910)  loss_giou_2: 0.2142 (0.2142)  loss_ce_3: 1.0160 (1.0160)  loss_bbox_3: 0.1801 (0.1801)  loss_giou_3: 0.2059 (0.2059)  loss_ce_4: 1.0452 (1.0452)  loss_bbox_4: 0.1696 (0.1696)  loss_giou_4: 0.1947 (0.1947)  loss_ce_unscaled: 1.0311 (1.0311)  class_error_unscaled: 0.0000 (0.0000)  loss_bbox_unscaled: 0.0347 (0.0347)  loss_giou_unscaled: 0.1013 (0.1013)  cardinality_error_unscaled: 89.2500 (89.2500)  loss_ce_0_unscaled: 0.9692 (0.9692)  loss_bbox_0_unscaled: 0.0423 (0.0423)  loss_giou_0_unscaled: 0.1183 (0.1183)  cardinality_error_0_unscaled: 83.0000 (83.0000)  loss_ce_1_unscaled: 1.0233 (1.0233)  loss_bbox_1_unscaled: 0.0394 (0.0394)  loss_giou_1_unscaled: 0.1067 (0.1067)  cardinality_error_1_unscaled: 87.2500 (87.2500)  loss_ce_2_unscaled: 1.0234 (1.0234)  loss_bbox_2_unscaled: 0.0382 (0.0382)  loss_giou_2_unscaled: 0.1071 (0.1071)  cardinality_error_2_unscaled: 88.7500 (88.7500)  loss_ce_3_unscaled: 1.0160 (1.0160)  loss_bbox_3_unscaled: 0.0360 (0.0360)  loss_giou_3_unscaled: 0.1030 (0.1030)  cardinality_error_3_unscaled: 86.2500 (86.2500)  loss_ce_4_unscaled: 1.0452 (1.0452)  loss_bbox_4_unscaled: 0.0339 (0.0339)  loss_giou_4_unscaled: 0.0974 (0.0974)  cardinality_error_4_unscaled: 89.0000 (89.0000)  time: 0.7878  data: 0.4018  max mem: 1445\n",
      "Epoch: [1]  [10/34]  eta: 0:00:09  lr: 0.000100  class_error: 0.00  loss: 8.7023 (8.7227)  loss_ce: 1.0517 (1.0808)  loss_bbox: 0.1684 (0.1814)  loss_giou: 0.1786 (0.1814)  loss_ce_0: 1.0489 (1.0277)  loss_bbox_0: 0.1993 (0.2112)  loss_giou_0: 0.2262 (0.2200)  loss_ce_1: 1.0824 (1.0800)  loss_bbox_1: 0.1859 (0.1930)  loss_giou_1: 0.2018 (0.1958)  loss_ce_2: 1.0727 (1.0823)  loss_bbox_2: 0.1697 (0.1880)  loss_giou_2: 0.1712 (0.1873)  loss_ce_3: 1.0514 (1.0679)  loss_bbox_3: 0.1727 (0.1857)  loss_giou_3: 0.1782 (0.1847)  loss_ce_4: 1.0624 (1.0932)  loss_bbox_4: 0.1696 (0.1813)  loss_giou_4: 0.1789 (0.1811)  loss_ce_unscaled: 1.0517 (1.0808)  class_error_unscaled: 0.0000 (0.0000)  loss_bbox_unscaled: 0.0337 (0.0363)  loss_giou_unscaled: 0.0893 (0.0907)  cardinality_error_unscaled: 88.0000 (84.7955)  loss_ce_0_unscaled: 1.0489 (1.0277)  loss_bbox_0_unscaled: 0.0399 (0.0422)  loss_giou_0_unscaled: 0.1131 (0.1100)  cardinality_error_0_unscaled: 80.2500 (79.5682)  loss_ce_1_unscaled: 1.0824 (1.0800)  loss_bbox_1_unscaled: 0.0372 (0.0386)  loss_giou_1_unscaled: 0.1009 (0.0979)  cardinality_error_1_unscaled: 87.2500 (84.9545)  loss_ce_2_unscaled: 1.0727 (1.0823)  loss_bbox_2_unscaled: 0.0339 (0.0376)  loss_giou_2_unscaled: 0.0856 (0.0936)  cardinality_error_2_unscaled: 86.7500 (85.3636)  loss_ce_3_unscaled: 1.0514 (1.0679)  loss_bbox_3_unscaled: 0.0345 (0.0371)  loss_giou_3_unscaled: 0.0891 (0.0924)  cardinality_error_3_unscaled: 86.2500 (84.2727)  loss_ce_4_unscaled: 1.0624 (1.0932)  loss_bbox_4_unscaled: 0.0339 (0.0363)  loss_giou_4_unscaled: 0.0894 (0.0905)  cardinality_error_4_unscaled: 87.5000 (84.7955)  time: 0.3920  data: 0.0656  max mem: 1445\n",
      "Epoch: [1]  [20/34]  eta: 0:00:05  lr: 0.000100  class_error: 0.00  loss: 8.1645 (8.3954)  loss_ce: 1.0122 (1.0305)  loss_bbox: 0.1542 (0.1725)  loss_giou: 0.1786 (0.1854)  loss_ce_0: 0.9806 (0.9835)  loss_bbox_0: 0.1993 (0.2042)  loss_giou_0: 0.2226 (0.2241)  loss_ce_1: 1.0176 (1.0323)  loss_bbox_1: 0.1766 (0.1845)  loss_giou_1: 0.2018 (0.2004)  loss_ce_2: 1.0150 (1.0328)  loss_bbox_2: 0.1647 (0.1766)  loss_giou_2: 0.1674 (0.1889)  loss_ce_3: 1.0042 (1.0191)  loss_bbox_3: 0.1624 (0.1758)  loss_giou_3: 0.1739 (0.1860)  loss_ce_4: 1.0279 (1.0423)  loss_bbox_4: 0.1535 (0.1710)  loss_giou_4: 0.1789 (0.1856)  loss_ce_unscaled: 1.0122 (1.0305)  class_error_unscaled: 0.0000 (0.0000)  loss_bbox_unscaled: 0.0308 (0.0345)  loss_giou_unscaled: 0.0893 (0.0927)  cardinality_error_unscaled: 79.7500 (81.1905)  loss_ce_0_unscaled: 0.9806 (0.9835)  loss_bbox_0_unscaled: 0.0399 (0.0408)  loss_giou_0_unscaled: 0.1113 (0.1121)  cardinality_error_0_unscaled: 74.7500 (75.7857)  loss_ce_1_unscaled: 1.0176 (1.0323)  loss_bbox_1_unscaled: 0.0353 (0.0369)  loss_giou_1_unscaled: 0.1009 (0.1002)  cardinality_error_1_unscaled: 80.5000 (81.5714)  loss_ce_2_unscaled: 1.0150 (1.0328)  loss_bbox_2_unscaled: 0.0329 (0.0353)  loss_giou_2_unscaled: 0.0837 (0.0945)  cardinality_error_2_unscaled: 84.2500 (81.8333)  loss_ce_3_unscaled: 1.0042 (1.0191)  loss_bbox_3_unscaled: 0.0325 (0.0352)  loss_giou_3_unscaled: 0.0870 (0.0930)  cardinality_error_3_unscaled: 82.2500 (80.5952)  loss_ce_4_unscaled: 1.0279 (1.0423)  loss_bbox_4_unscaled: 0.0307 (0.0342)  loss_giou_4_unscaled: 0.0894 (0.0928)  cardinality_error_4_unscaled: 80.2500 (81.4286)  time: 0.3473  data: 0.0288  max mem: 1445\n",
      "Epoch: [1]  [30/34]  eta: 0:00:01  lr: 0.000100  class_error: 0.00  loss: 7.4808 (8.0295)  loss_ce: 0.9238 (0.9850)  loss_bbox: 0.1467 (0.1625)  loss_giou: 0.1563 (0.1792)  loss_ce_0: 0.8885 (0.9394)  loss_bbox_0: 0.1727 (0.1955)  loss_giou_0: 0.2073 (0.2187)  loss_ce_1: 0.9278 (0.9852)  loss_bbox_1: 0.1533 (0.1726)  loss_giou_1: 0.1801 (0.1921)  loss_ce_2: 0.9295 (0.9871)  loss_bbox_2: 0.1536 (0.1669)  loss_giou_2: 0.1604 (0.1818)  loss_ce_3: 0.9094 (0.9737)  loss_bbox_3: 0.1473 (0.1671)  loss_giou_3: 0.1565 (0.1832)  loss_ce_4: 0.9326 (0.9963)  loss_bbox_4: 0.1500 (0.1617)  loss_giou_4: 0.1673 (0.1815)  loss_ce_unscaled: 0.9238 (0.9850)  class_error_unscaled: 0.0000 (0.0000)  loss_bbox_unscaled: 0.0293 (0.0325)  loss_giou_unscaled: 0.0781 (0.0896)  cardinality_error_unscaled: 68.7500 (76.3226)  loss_ce_0_unscaled: 0.8885 (0.9394)  loss_bbox_0_unscaled: 0.0345 (0.0391)  loss_giou_0_unscaled: 0.1036 (0.1093)  cardinality_error_0_unscaled: 66.2500 (70.4032)  loss_ce_1_unscaled: 0.9278 (0.9852)  loss_bbox_1_unscaled: 0.0307 (0.0345)  loss_giou_1_unscaled: 0.0900 (0.0960)  cardinality_error_1_unscaled: 70.7500 (76.2903)  loss_ce_2_unscaled: 0.9295 (0.9871)  loss_bbox_2_unscaled: 0.0307 (0.0334)  loss_giou_2_unscaled: 0.0802 (0.0909)  cardinality_error_2_unscaled: 71.5000 (77.0000)  loss_ce_3_unscaled: 0.9094 (0.9737)  loss_bbox_3_unscaled: 0.0295 (0.0334)  loss_giou_3_unscaled: 0.0783 (0.0916)  cardinality_error_3_unscaled: 68.7500 (75.5968)  loss_ce_4_unscaled: 0.9326 (0.9963)  loss_bbox_4_unscaled: 0.0300 (0.0323)  loss_giou_4_unscaled: 0.0837 (0.0908)  cardinality_error_4_unscaled: 70.0000 (76.7823)  time: 0.3398  data: 0.0263  max mem: 1445\n",
      "Epoch: [1]  [33/34]  eta: 0:00:00  lr: 0.000100  class_error: 0.00  loss: 7.3166 (7.9513)  loss_ce: 0.8958 (0.9722)  loss_bbox: 0.1447 (0.1617)  loss_giou: 0.1563 (0.1783)  loss_ce_0: 0.8857 (0.9289)  loss_bbox_0: 0.1727 (0.1948)  loss_giou_0: 0.2031 (0.2167)  loss_ce_1: 0.9112 (0.9732)  loss_bbox_1: 0.1533 (0.1719)  loss_giou_1: 0.1734 (0.1909)  loss_ce_2: 0.9113 (0.9740)  loss_bbox_2: 0.1501 (0.1681)  loss_giou_2: 0.1775 (0.1826)  loss_ce_3: 0.8928 (0.9603)  loss_bbox_3: 0.1473 (0.1677)  loss_giou_3: 0.1739 (0.1834)  loss_ce_4: 0.9131 (0.9833)  loss_bbox_4: 0.1455 (0.1618)  loss_giou_4: 0.1668 (0.1815)  loss_ce_unscaled: 0.8958 (0.9722)  class_error_unscaled: 0.0000 (0.2941)  loss_bbox_unscaled: 0.0289 (0.0323)  loss_giou_unscaled: 0.0781 (0.0892)  cardinality_error_unscaled: 68.5000 (75.4044)  loss_ce_0_unscaled: 0.8857 (0.9289)  loss_bbox_0_unscaled: 0.0345 (0.0390)  loss_giou_0_unscaled: 0.1015 (0.1083)  cardinality_error_0_unscaled: 63.5000 (69.3088)  loss_ce_1_unscaled: 0.9112 (0.9732)  loss_bbox_1_unscaled: 0.0307 (0.0344)  loss_giou_1_unscaled: 0.0867 (0.0955)  cardinality_error_1_unscaled: 68.7500 (75.1985)  loss_ce_2_unscaled: 0.9113 (0.9740)  loss_bbox_2_unscaled: 0.0300 (0.0336)  loss_giou_2_unscaled: 0.0887 (0.0913)  cardinality_error_2_unscaled: 70.0000 (76.0147)  loss_ce_3_unscaled: 0.8928 (0.9603)  loss_bbox_3_unscaled: 0.0295 (0.0335)  loss_giou_3_unscaled: 0.0870 (0.0917)  cardinality_error_3_unscaled: 68.2500 (74.5221)  loss_ce_4_unscaled: 0.9131 (0.9833)  loss_bbox_4_unscaled: 0.0291 (0.0324)  loss_giou_4_unscaled: 0.0834 (0.0908)  cardinality_error_4_unscaled: 69.7500 (75.8162)  time: 0.3268  data: 0.0266  max mem: 1445\n",
      "Epoch: [1] Total time: 0:00:11 (0.3507 s / it)\n",
      "Averaged stats: lr: 0.000100  class_error: 0.00  loss: 7.3166 (7.9513)  loss_ce: 0.8958 (0.9722)  loss_bbox: 0.1447 (0.1617)  loss_giou: 0.1563 (0.1783)  loss_ce_0: 0.8857 (0.9289)  loss_bbox_0: 0.1727 (0.1948)  loss_giou_0: 0.2031 (0.2167)  loss_ce_1: 0.9112 (0.9732)  loss_bbox_1: 0.1533 (0.1719)  loss_giou_1: 0.1734 (0.1909)  loss_ce_2: 0.9113 (0.9740)  loss_bbox_2: 0.1501 (0.1681)  loss_giou_2: 0.1775 (0.1826)  loss_ce_3: 0.8928 (0.9603)  loss_bbox_3: 0.1473 (0.1677)  loss_giou_3: 0.1739 (0.1834)  loss_ce_4: 0.9131 (0.9833)  loss_bbox_4: 0.1455 (0.1618)  loss_giou_4: 0.1668 (0.1815)  loss_ce_unscaled: 0.8958 (0.9722)  class_error_unscaled: 0.0000 (0.2941)  loss_bbox_unscaled: 0.0289 (0.0323)  loss_giou_unscaled: 0.0781 (0.0892)  cardinality_error_unscaled: 68.5000 (75.4044)  loss_ce_0_unscaled: 0.8857 (0.9289)  loss_bbox_0_unscaled: 0.0345 (0.0390)  loss_giou_0_unscaled: 0.1015 (0.1083)  cardinality_error_0_unscaled: 63.5000 (69.3088)  loss_ce_1_unscaled: 0.9112 (0.9732)  loss_bbox_1_unscaled: 0.0307 (0.0344)  loss_giou_1_unscaled: 0.0867 (0.0955)  cardinality_error_1_unscaled: 68.7500 (75.1985)  loss_ce_2_unscaled: 0.9113 (0.9740)  loss_bbox_2_unscaled: 0.0300 (0.0336)  loss_giou_2_unscaled: 0.0887 (0.0913)  cardinality_error_2_unscaled: 70.0000 (76.0147)  loss_ce_3_unscaled: 0.8928 (0.9603)  loss_bbox_3_unscaled: 0.0295 (0.0335)  loss_giou_3_unscaled: 0.0870 (0.0917)  cardinality_error_3_unscaled: 68.2500 (74.5221)  loss_ce_4_unscaled: 0.9131 (0.9833)  loss_bbox_4_unscaled: 0.0291 (0.0324)  loss_giou_4_unscaled: 0.0834 (0.0908)  cardinality_error_4_unscaled: 69.7500 (75.8162)\n",
      "Test:  [0/9]  eta: 0:00:09  class_error: 0.00  loss: 6.4377 (6.4377)  loss_ce: 0.7900 (0.7900)  loss_bbox: 0.1224 (0.1224)  loss_giou: 0.1754 (0.1754)  loss_ce_0: 0.7506 (0.7506)  loss_bbox_0: 0.1278 (0.1278)  loss_giou_0: 0.1804 (0.1804)  loss_ce_1: 0.7823 (0.7823)  loss_bbox_1: 0.1235 (0.1235)  loss_giou_1: 0.1567 (0.1567)  loss_ce_2: 0.7814 (0.7814)  loss_bbox_2: 0.1246 (0.1246)  loss_giou_2: 0.1646 (0.1646)  loss_ce_3: 0.7747 (0.7747)  loss_bbox_3: 0.1207 (0.1207)  loss_giou_3: 0.1701 (0.1701)  loss_ce_4: 0.7971 (0.7971)  loss_bbox_4: 0.1207 (0.1207)  loss_giou_4: 0.1747 (0.1747)  loss_ce_unscaled: 0.7900 (0.7900)  class_error_unscaled: 0.0000 (0.0000)  loss_bbox_unscaled: 0.0245 (0.0245)  loss_giou_unscaled: 0.0877 (0.0877)  cardinality_error_unscaled: 55.5000 (55.5000)  loss_ce_0_unscaled: 0.7506 (0.7506)  loss_bbox_0_unscaled: 0.0256 (0.0256)  loss_giou_0_unscaled: 0.0902 (0.0902)  cardinality_error_0_unscaled: 46.7500 (46.7500)  loss_ce_1_unscaled: 0.7823 (0.7823)  loss_bbox_1_unscaled: 0.0247 (0.0247)  loss_giou_1_unscaled: 0.0784 (0.0784)  cardinality_error_1_unscaled: 53.7500 (53.7500)  loss_ce_2_unscaled: 0.7814 (0.7814)  loss_bbox_2_unscaled: 0.0249 (0.0249)  loss_giou_2_unscaled: 0.0823 (0.0823)  cardinality_error_2_unscaled: 54.7500 (54.7500)  loss_ce_3_unscaled: 0.7747 (0.7747)  loss_bbox_3_unscaled: 0.0241 (0.0241)  loss_giou_3_unscaled: 0.0851 (0.0851)  cardinality_error_3_unscaled: 54.0000 (54.0000)  loss_ce_4_unscaled: 0.7971 (0.7971)  loss_bbox_4_unscaled: 0.0241 (0.0241)  loss_giou_4_unscaled: 0.0873 (0.0873)  cardinality_error_4_unscaled: 56.5000 (56.5000)  time: 1.0183  data: 0.4751  max mem: 1445\n",
      "Test:  [8/9]  eta: 0:00:00  class_error: 0.00  loss: 6.4795 (6.5037)  loss_ce: 0.8051 (0.8034)  loss_bbox: 0.1479 (0.1398)  loss_giou: 0.1509 (0.1460)  loss_ce_0: 0.7483 (0.7361)  loss_bbox_0: 0.1710 (0.1604)  loss_giou_0: 0.1779 (0.1684)  loss_ce_1: 0.8124 (0.7956)  loss_bbox_1: 0.1453 (0.1439)  loss_giou_1: 0.1517 (0.1484)  loss_ce_2: 0.8113 (0.8040)  loss_bbox_2: 0.1287 (0.1404)  loss_giou_2: 0.1498 (0.1444)  loss_ce_3: 0.7977 (0.7964)  loss_bbox_3: 0.1477 (0.1395)  loss_giou_3: 0.1500 (0.1422)  loss_ce_4: 0.8160 (0.8143)  loss_bbox_4: 0.1471 (0.1379)  loss_giou_4: 0.1517 (0.1427)  loss_ce_unscaled: 0.8051 (0.8034)  class_error_unscaled: 0.0000 (0.0000)  loss_bbox_unscaled: 0.0296 (0.0280)  loss_giou_unscaled: 0.0755 (0.0730)  cardinality_error_unscaled: 56.7500 (55.1389)  loss_ce_0_unscaled: 0.7483 (0.7361)  loss_bbox_0_unscaled: 0.0342 (0.0321)  loss_giou_0_unscaled: 0.0889 (0.0842)  cardinality_error_0_unscaled: 46.7500 (47.5000)  loss_ce_1_unscaled: 0.8124 (0.7956)  loss_bbox_1_unscaled: 0.0291 (0.0288)  loss_giou_1_unscaled: 0.0758 (0.0742)  cardinality_error_1_unscaled: 53.7500 (55.0556)  loss_ce_2_unscaled: 0.8113 (0.8040)  loss_bbox_2_unscaled: 0.0257 (0.0281)  loss_giou_2_unscaled: 0.0749 (0.0722)  cardinality_error_2_unscaled: 56.5000 (56.2500)  loss_ce_3_unscaled: 0.7977 (0.7964)  loss_bbox_3_unscaled: 0.0295 (0.0279)  loss_giou_3_unscaled: 0.0750 (0.0711)  cardinality_error_3_unscaled: 56.7500 (55.2500)  loss_ce_4_unscaled: 0.8160 (0.8143)  loss_bbox_4_unscaled: 0.0294 (0.0276)  loss_giou_4_unscaled: 0.0759 (0.0714)  cardinality_error_4_unscaled: 57.2500 (56.7778)  time: 0.4141  data: 0.0740  max mem: 1445\n",
      "Test: Total time: 0:00:03 (0.4197 s / it)\n",
      "Averaged stats: class_error: 0.00  loss: 6.4795 (6.5037)  loss_ce: 0.8051 (0.8034)  loss_bbox: 0.1479 (0.1398)  loss_giou: 0.1509 (0.1460)  loss_ce_0: 0.7483 (0.7361)  loss_bbox_0: 0.1710 (0.1604)  loss_giou_0: 0.1779 (0.1684)  loss_ce_1: 0.8124 (0.7956)  loss_bbox_1: 0.1453 (0.1439)  loss_giou_1: 0.1517 (0.1484)  loss_ce_2: 0.8113 (0.8040)  loss_bbox_2: 0.1287 (0.1404)  loss_giou_2: 0.1498 (0.1444)  loss_ce_3: 0.7977 (0.7964)  loss_bbox_3: 0.1477 (0.1395)  loss_giou_3: 0.1500 (0.1422)  loss_ce_4: 0.8160 (0.8143)  loss_bbox_4: 0.1471 (0.1379)  loss_giou_4: 0.1517 (0.1427)  loss_ce_unscaled: 0.8051 (0.8034)  class_error_unscaled: 0.0000 (0.0000)  loss_bbox_unscaled: 0.0296 (0.0280)  loss_giou_unscaled: 0.0755 (0.0730)  cardinality_error_unscaled: 56.7500 (55.1389)  loss_ce_0_unscaled: 0.7483 (0.7361)  loss_bbox_0_unscaled: 0.0342 (0.0321)  loss_giou_0_unscaled: 0.0889 (0.0842)  cardinality_error_0_unscaled: 46.7500 (47.5000)  loss_ce_1_unscaled: 0.8124 (0.7956)  loss_bbox_1_unscaled: 0.0291 (0.0288)  loss_giou_1_unscaled: 0.0758 (0.0742)  cardinality_error_1_unscaled: 53.7500 (55.0556)  loss_ce_2_unscaled: 0.8113 (0.8040)  loss_bbox_2_unscaled: 0.0257 (0.0281)  loss_giou_2_unscaled: 0.0749 (0.0722)  cardinality_error_2_unscaled: 56.5000 (56.2500)  loss_ce_3_unscaled: 0.7977 (0.7964)  loss_bbox_3_unscaled: 0.0295 (0.0279)  loss_giou_3_unscaled: 0.0750 (0.0711)  cardinality_error_3_unscaled: 56.7500 (55.2500)  loss_ce_4_unscaled: 0.8160 (0.8143)  loss_bbox_4_unscaled: 0.0294 (0.0276)  loss_giou_4_unscaled: 0.0759 (0.0714)  cardinality_error_4_unscaled: 57.2500 (56.7778)\n",
      "Accumulating evaluation results...\n",
      "DONE (t=0.03s).\n",
      "IoU metric: bbox\n",
      " Average Precision  (AP) @[ IoU=0.50:0.95 | area=   all | maxDets=100 ] = 0.525\n",
      " Average Precision  (AP) @[ IoU=0.50      | area=   all | maxDets=100 ] = 0.613\n",
      " Average Precision  (AP) @[ IoU=0.75      | area=   all | maxDets=100 ] = 0.602\n",
      " Average Precision  (AP) @[ IoU=0.50:0.95 | area= small | maxDets=100 ] = -1.000\n",
      " Average Precision  (AP) @[ IoU=0.50:0.95 | area=medium | maxDets=100 ] = 0.196\n",
      " Average Precision  (AP) @[ IoU=0.50:0.95 | area= large | maxDets=100 ] = 0.754\n",
      " Average Recall     (AR) @[ IoU=0.50:0.95 | area=   all | maxDets=  1 ] = 0.334\n",
      " Average Recall     (AR) @[ IoU=0.50:0.95 | area=   all | maxDets= 10 ] = 0.784\n",
      " Average Recall     (AR) @[ IoU=0.50:0.95 | area=   all | maxDets=100 ] = 0.903\n",
      " Average Recall     (AR) @[ IoU=0.50:0.95 | area= small | maxDets=100 ] = -1.000\n",
      " Average Recall     (AR) @[ IoU=0.50:0.95 | area=medium | maxDets=100 ] = 0.756\n",
      " Average Recall     (AR) @[ IoU=0.50:0.95 | area= large | maxDets=100 ] = 0.922\n",
      "Training time 0:00:31\n"
     ]
    }
   ],
   "source": [
    "run_detr(args, train_dataset, valid_dataset)"
   ]
  },
  {
   "cell_type": "markdown",
   "metadata": {
    "colab_type": "text",
    "id": "gefyT7O3YUWn"
   },
   "source": [
    "## Plot logs"
   ]
  },
  {
   "cell_type": "code",
   "execution_count": null,
   "metadata": {
    "colab": {
     "base_uri": "https://localhost:8080/",
     "height": 406
    },
    "colab_type": "code",
    "id": "0xjDyw9OYUWp",
    "outputId": "8b43d84e-481a-431a-e0f0-9fb1494cbe47"
   },
   "outputs": [
    {
     "name": "stdout",
     "output_type": "stream",
     "text": [
      "plot_utils.py::plot_logs info: logs param expects a list argument, converted to list[Path].\n"
     ]
    },
    {
     "name": "stderr",
     "output_type": "stream",
     "text": [
      "/usr/local/lib/python3.6/dist-packages/mantisshrimp/hub/detr/detr/util/plot_utils.py:55: FutureWarning: The pandas.np module is deprecated and will be removed from pandas in a future version. Import numpy directly instead\n",
      "  coco_eval = pd.DataFrame(pd.np.stack(col.dropna().values)[:, 1]).ewm(com=ewm_col).mean()\n"
     ]
    },
    {
     "data": {
      "image/png": "[encoded data removed]",
      "text/plain": [
       "<Figure size 1152x360 with 3 Axes>"
      ]
     },
     "metadata": {
      "needs_background": "light",
      "tags": []
     },
     "output_type": "display_data"
    }
   ],
   "source": [
    "detr_plot_utils.plot_logs(output_dir)"
   ]
  },
  {
   "cell_type": "code",
   "execution_count": null,
   "metadata": {
    "colab": {},
    "colab_type": "code",
    "id": "p2fsGeyDYUWv"
   },
   "outputs": [],
   "source": []
  }
 ],
 "metadata": {
  "accelerator": "GPU",
  "colab": {
   "collapsed_sections": [],
   "name": "hub_detr_finetune_pennfundan.ipynb",
   "provenance": []
  },
  "kernelspec": {
   "display_name": "Python 3",
   "language": "python",
   "name": "python3"
  },
  "language_info": {
   "codemirror_mode": {
    "name": "ipython",
    "version": 3
   },
   "file_extension": ".py",
   "mimetype": "text/x-python",
   "name": "python",
   "nbconvert_exporter": "python",
   "pygments_lexer": "ipython3",
   "version": "3.7.7"
  },
  "widgets": {
   "application/vnd.jupyter.widget-state+json": {
    "07abab309c3544678b681ed90e9ab325": {
     "model_module": "@jupyter-widgets/controls",
     "model_name": "HTMLModel",
     "state": {
      "_dom_classes": [],
      "_model_module": "@jupyter-widgets/controls",
      "_model_module_version": "1.5.0",
      "_model_name": "HTMLModel",
      "_view_count": null,
      "_view_module": "@jupyter-widgets/controls",
      "_view_module_version": "1.5.0",
      "_view_name": "HTMLView",
      "description": "",
      "description_tooltip": null,
      "layout": "IPY_MODEL_68407a7bf9274dd986b3da6d8f6ef9a4",
      "placeholder": "​",
      "style": "IPY_MODEL_9c582d52b73840a29b49c022339aa4c1",
      "value": " 97.8M/97.8M [00:00&lt;00:00, 109MB/s]"
     }
    },
    "09ba2259202440cd8921633191716dab": {
     "model_module": "@jupyter-widgets/controls",
     "model_name": "HBoxModel",
     "state": {
      "_dom_classes": [],
      "_model_module": "@jupyter-widgets/controls",
      "_model_module_version": "1.5.0",
      "_model_name": "HBoxModel",
      "_view_count": null,
      "_view_module": "@jupyter-widgets/controls",
      "_view_module_version": "1.5.0",
      "_view_name": "HBoxView",
      "box_style": "",
      "children": [
       "IPY_MODEL_7972d22ec6564af3b0214c664dc46e57",
       "IPY_MODEL_07abab309c3544678b681ed90e9ab325"
      ],
      "layout": "IPY_MODEL_bedd3107632542848bd2721344958545"
     }
    },
    "0d29427b2a134604ae603f44c44b56de": {
     "model_module": "@jupyter-widgets/base",
     "model_name": "LayoutModel",
     "state": {
      "_model_module": "@jupyter-widgets/base",
      "_model_module_version": "1.2.0",
      "_model_name": "LayoutModel",
      "_view_count": null,
      "_view_module": "@jupyter-widgets/base",
      "_view_module_version": "1.2.0",
      "_view_name": "LayoutView",
      "align_content": null,
      "align_items": null,
      "align_self": null,
      "border": null,
      "bottom": null,
      "display": null,
      "flex": null,
      "flex_flow": null,
      "grid_area": null,
      "grid_auto_columns": null,
      "grid_auto_flow": null,
      "grid_auto_rows": null,
      "grid_column": null,
      "grid_gap": null,
      "grid_row": null,
      "grid_template_areas": null,
      "grid_template_columns": null,
      "grid_template_rows": null,
      "height": null,
      "justify_content": null,
      "justify_items": null,
      "left": null,
      "margin": null,
      "max_height": null,
      "max_width": null,
      "min_height": null,
      "min_width": null,
      "object_fit": null,
      "object_position": null,
      "order": null,
      "overflow": null,
      "overflow_x": null,
      "overflow_y": null,
      "padding": null,
      "right": null,
      "top": null,
      "visibility": null,
      "width": null
     }
    },
    "0d62f5fd4e344d858dac61bf4fc02ea5": {
     "model_module": "@jupyter-widgets/controls",
     "model_name": "FloatProgressModel",
     "state": {
      "_dom_classes": [],
      "_model_module": "@jupyter-widgets/controls",
      "_model_module_version": "1.5.0",
      "_model_name": "FloatProgressModel",
      "_view_count": null,
      "_view_module": "@jupyter-widgets/controls",
      "_view_module_version": "1.5.0",
      "_view_name": "ProgressView",
      "bar_style": "",
      "description": "100%",
      "description_tooltip": null,
      "layout": "IPY_MODEL_5888d9dca028449badeeab71001ebc4f",
      "max": 53723336,
      "min": 0,
      "orientation": "horizontal",
      "style": "IPY_MODEL_782683a00fc14e15ba43291197418b73",
      "value": 53723336
     }
    },
    "38bd992c9c6849d0b879bb410b729206": {
     "model_module": "@jupyter-widgets/controls",
     "model_name": "ProgressStyleModel",
     "state": {
      "_model_module": "@jupyter-widgets/controls",
      "_model_module_version": "1.5.0",
      "_model_name": "ProgressStyleModel",
      "_view_count": null,
      "_view_module": "@jupyter-widgets/base",
      "_view_module_version": "1.2.0",
      "_view_name": "StyleView",
      "bar_color": null,
      "description_width": "initial"
     }
    },
    "425baacd9da347c880c5423a2b4ffe8e": {
     "model_module": "@jupyter-widgets/controls",
     "model_name": "HBoxModel",
     "state": {
      "_dom_classes": [],
      "_model_module": "@jupyter-widgets/controls",
      "_model_module_version": "1.5.0",
      "_model_name": "HBoxModel",
      "_view_count": null,
      "_view_module": "@jupyter-widgets/controls",
      "_view_module_version": "1.5.0",
      "_view_name": "HBoxView",
      "box_style": "",
      "children": [
       "IPY_MODEL_fb9ce6905ae346aa9117343267f79586",
       "IPY_MODEL_50bb730e7aa440fa933f3606358785db"
      ],
      "layout": "IPY_MODEL_9bacb8f5f6f241d5b5bc6a95aedb187e"
     }
    },
    "473a88d051cf4bf19a89f8cedb4dbd06": {
     "model_module": "@jupyter-widgets/controls",
     "model_name": "DescriptionStyleModel",
     "state": {
      "_model_module": "@jupyter-widgets/controls",
      "_model_module_version": "1.5.0",
      "_model_name": "DescriptionStyleModel",
      "_view_count": null,
      "_view_module": "@jupyter-widgets/base",
      "_view_module_version": "1.2.0",
      "_view_name": "StyleView",
      "description_width": ""
     }
    },
    "50bb730e7aa440fa933f3606358785db": {
     "model_module": "@jupyter-widgets/controls",
     "model_name": "HTMLModel",
     "state": {
      "_dom_classes": [],
      "_model_module": "@jupyter-widgets/controls",
      "_model_module_version": "1.5.0",
      "_model_name": "HTMLModel",
      "_view_count": null,
      "_view_module": "@jupyter-widgets/controls",
      "_view_module_version": "1.5.0",
      "_view_name": "HTMLView",
      "description": "",
      "description_tooltip": null,
      "layout": "IPY_MODEL_8ca9a27bf6604a18bac882d8d33481f2",
      "placeholder": "​",
      "style": "IPY_MODEL_dd4b761ae9814d6b9b2bbde79a2f63ac",
      "value": " 34/34 [00:15&lt;00:00,  2.22it/s]"
     }
    },
    "512ff0b5bc9c41e581149969fc353313": {
     "model_module": "@jupyter-widgets/controls",
     "model_name": "HBoxModel",
     "state": {
      "_dom_classes": [],
      "_model_module": "@jupyter-widgets/controls",
      "_model_module_version": "1.5.0",
      "_model_name": "HBoxModel",
      "_view_count": null,
      "_view_module": "@jupyter-widgets/controls",
      "_view_module_version": "1.5.0",
      "_view_name": "HBoxView",
      "box_style": "",
      "children": [
       "IPY_MODEL_6fbe33b6bbe24949b9128919ffca97fb",
       "IPY_MODEL_de3eaef947ff477697a6d4bf0d36859f"
      ],
      "layout": "IPY_MODEL_7fc77ac6c8b64deaacb258689a1a1e34"
     }
    },
    "5888d9dca028449badeeab71001ebc4f": {
     "model_module": "@jupyter-widgets/base",
     "model_name": "LayoutModel",
     "state": {
      "_model_module": "@jupyter-widgets/base",
      "_model_module_version": "1.2.0",
      "_model_name": "LayoutModel",
      "_view_count": null,
      "_view_module": "@jupyter-widgets/base",
      "_view_module_version": "1.2.0",
      "_view_name": "LayoutView",
      "align_content": null,
      "align_items": null,
      "align_self": null,
      "border": null,
      "bottom": null,
      "display": null,
      "flex": null,
      "flex_flow": null,
      "grid_area": null,
      "grid_auto_columns": null,
      "grid_auto_flow": null,
      "grid_auto_rows": null,
      "grid_column": null,
      "grid_gap": null,
      "grid_row": null,
      "grid_template_areas": null,
      "grid_template_columns": null,
      "grid_template_rows": null,
      "height": null,
      "justify_content": null,
      "justify_items": null,
      "left": null,
      "margin": null,
      "max_height": null,
      "max_width": null,
      "min_height": null,
      "min_width": null,
      "object_fit": null,
      "object_position": null,
      "order": null,
      "overflow": null,
      "overflow_x": null,
      "overflow_y": null,
      "padding": null,
      "right": null,
      "top": null,
      "visibility": null,
      "width": null
     }
    },
    "682384ea4cc24c26bf55d300562505d1": {
     "model_module": "@jupyter-widgets/base",
     "model_name": "LayoutModel",
     "state": {
      "_model_module": "@jupyter-widgets/base",
      "_model_module_version": "1.2.0",
      "_model_name": "LayoutModel",
      "_view_count": null,
      "_view_module": "@jupyter-widgets/base",
      "_view_module_version": "1.2.0",
      "_view_name": "LayoutView",
      "align_content": null,
      "align_items": null,
      "align_self": null,
      "border": null,
      "bottom": null,
      "display": null,
      "flex": null,
      "flex_flow": null,
      "grid_area": null,
      "grid_auto_columns": null,
      "grid_auto_flow": null,
      "grid_auto_rows": null,
      "grid_column": null,
      "grid_gap": null,
      "grid_row": null,
      "grid_template_areas": null,
      "grid_template_columns": null,
      "grid_template_rows": null,
      "height": null,
      "justify_content": null,
      "justify_items": null,
      "left": null,
      "margin": null,
      "max_height": null,
      "max_width": null,
      "min_height": null,
      "min_width": null,
      "object_fit": null,
      "object_position": null,
      "order": null,
      "overflow": null,
      "overflow_x": null,
      "overflow_y": null,
      "padding": null,
      "right": null,
      "top": null,
      "visibility": null,
      "width": null
     }
    },
    "68407a7bf9274dd986b3da6d8f6ef9a4": {
     "model_module": "@jupyter-widgets/base",
     "model_name": "LayoutModel",
     "state": {
      "_model_module": "@jupyter-widgets/base",
      "_model_module_version": "1.2.0",
      "_model_name": "LayoutModel",
      "_view_count": null,
      "_view_module": "@jupyter-widgets/base",
      "_view_module_version": "1.2.0",
      "_view_name": "LayoutView",
      "align_content": null,
      "align_items": null,
      "align_self": null,
      "border": null,
      "bottom": null,
      "display": null,
      "flex": null,
      "flex_flow": null,
      "grid_area": null,
      "grid_auto_columns": null,
      "grid_auto_flow": null,
      "grid_auto_rows": null,
      "grid_column": null,
      "grid_gap": null,
      "grid_row": null,
      "grid_template_areas": null,
      "grid_template_columns": null,
      "grid_template_rows": null,
      "height": null,
      "justify_content": null,
      "justify_items": null,
      "left": null,
      "margin": null,
      "max_height": null,
      "max_width": null,
      "min_height": null,
      "min_width": null,
      "object_fit": null,
      "object_position": null,
      "order": null,
      "overflow": null,
      "overflow_x": null,
      "overflow_y": null,
      "padding": null,
      "right": null,
      "top": null,
      "visibility": null,
      "width": null
     }
    },
    "690d9bc62bba4ad2ba06e365b3f72038": {
     "model_module": "@jupyter-widgets/controls",
     "model_name": "DescriptionStyleModel",
     "state": {
      "_model_module": "@jupyter-widgets/controls",
      "_model_module_version": "1.5.0",
      "_model_name": "DescriptionStyleModel",
      "_view_count": null,
      "_view_module": "@jupyter-widgets/base",
      "_view_module_version": "1.2.0",
      "_view_name": "StyleView",
      "description_width": ""
     }
    },
    "6fbe33b6bbe24949b9128919ffca97fb": {
     "model_module": "@jupyter-widgets/controls",
     "model_name": "FloatProgressModel",
     "state": {
      "_dom_classes": [],
      "_model_module": "@jupyter-widgets/controls",
      "_model_module_version": "1.5.0",
      "_model_name": "FloatProgressModel",
      "_view_count": null,
      "_view_module": "@jupyter-widgets/controls",
      "_view_module_version": "1.5.0",
      "_view_name": "ProgressView",
      "bar_style": "success",
      "description": "",
      "description_tooltip": null,
      "layout": "IPY_MODEL_682384ea4cc24c26bf55d300562505d1",
      "max": 1,
      "min": 0,
      "orientation": "horizontal",
      "style": "IPY_MODEL_38bd992c9c6849d0b879bb410b729206",
      "value": 1
     }
    },
    "71b64857495343ccb1c456d043096e76": {
     "model_module": "@jupyter-widgets/controls",
     "model_name": "HTMLModel",
     "state": {
      "_dom_classes": [],
      "_model_module": "@jupyter-widgets/controls",
      "_model_module_version": "1.5.0",
      "_model_name": "HTMLModel",
      "_view_count": null,
      "_view_module": "@jupyter-widgets/controls",
      "_view_module_version": "1.5.0",
      "_view_name": "HTMLView",
      "description": "",
      "description_tooltip": null,
      "layout": "IPY_MODEL_d14fdfe838d84cc3bd56a42dc2d922bc",
      "placeholder": "​",
      "style": "IPY_MODEL_690d9bc62bba4ad2ba06e365b3f72038",
      "value": " 53723336/53723336 [01:00&lt;00:00, 1018964.22B/s]"
     }
    },
    "782683a00fc14e15ba43291197418b73": {
     "model_module": "@jupyter-widgets/controls",
     "model_name": "ProgressStyleModel",
     "state": {
      "_model_module": "@jupyter-widgets/controls",
      "_model_module_version": "1.5.0",
      "_model_name": "ProgressStyleModel",
      "_view_count": null,
      "_view_module": "@jupyter-widgets/base",
      "_view_module_version": "1.2.0",
      "_view_name": "StyleView",
      "bar_color": null,
      "description_width": "initial"
     }
    },
    "7972d22ec6564af3b0214c664dc46e57": {
     "model_module": "@jupyter-widgets/controls",
     "model_name": "FloatProgressModel",
     "state": {
      "_dom_classes": [],
      "_model_module": "@jupyter-widgets/controls",
      "_model_module_version": "1.5.0",
      "_model_name": "FloatProgressModel",
      "_view_count": null,
      "_view_module": "@jupyter-widgets/controls",
      "_view_module_version": "1.5.0",
      "_view_name": "ProgressView",
      "bar_style": "success",
      "description": "100%",
      "description_tooltip": null,
      "layout": "IPY_MODEL_7ddc1f0b178e44478200744c4e3b4991",
      "max": 102502400,
      "min": 0,
      "orientation": "horizontal",
      "style": "IPY_MODEL_aea05129b0f340b3835bb4d85699baac",
      "value": 102502400
     }
    },
    "7ddc1f0b178e44478200744c4e3b4991": {
     "model_module": "@jupyter-widgets/base",
     "model_name": "LayoutModel",
     "state": {
      "_model_module": "@jupyter-widgets/base",
      "_model_module_version": "1.2.0",
      "_model_name": "LayoutModel",
      "_view_count": null,
      "_view_module": "@jupyter-widgets/base",
      "_view_module_version": "1.2.0",
      "_view_name": "LayoutView",
      "align_content": null,
      "align_items": null,
      "align_self": null,
      "border": null,
      "bottom": null,
      "display": null,
      "flex": null,
      "flex_flow": null,
      "grid_area": null,
      "grid_auto_columns": null,
      "grid_auto_flow": null,
      "grid_auto_rows": null,
      "grid_column": null,
      "grid_gap": null,
      "grid_row": null,
      "grid_template_areas": null,
      "grid_template_columns": null,
      "grid_template_rows": null,
      "height": null,
      "justify_content": null,
      "justify_items": null,
      "left": null,
      "margin": null,
      "max_height": null,
      "max_width": null,
      "min_height": null,
      "min_width": null,
      "object_fit": null,
      "object_position": null,
      "order": null,
      "overflow": null,
      "overflow_x": null,
      "overflow_y": null,
      "padding": null,
      "right": null,
      "top": null,
      "visibility": null,
      "width": null
     }
    },
    "7fc77ac6c8b64deaacb258689a1a1e34": {
     "model_module": "@jupyter-widgets/base",
     "model_name": "LayoutModel",
     "state": {
      "_model_module": "@jupyter-widgets/base",
      "_model_module_version": "1.2.0",
      "_model_name": "LayoutModel",
      "_view_count": null,
      "_view_module": "@jupyter-widgets/base",
      "_view_module_version": "1.2.0",
      "_view_name": "LayoutView",
      "align_content": null,
      "align_items": null,
      "align_self": null,
      "border": null,
      "bottom": null,
      "display": null,
      "flex": null,
      "flex_flow": null,
      "grid_area": null,
      "grid_auto_columns": null,
      "grid_auto_flow": null,
      "grid_auto_rows": null,
      "grid_column": null,
      "grid_gap": null,
      "grid_row": null,
      "grid_template_areas": null,
      "grid_template_columns": null,
      "grid_template_rows": null,
      "height": null,
      "justify_content": null,
      "justify_items": null,
      "left": null,
      "margin": null,
      "max_height": null,
      "max_width": null,
      "min_height": null,
      "min_width": null,
      "object_fit": null,
      "object_position": null,
      "order": null,
      "overflow": null,
      "overflow_x": null,
      "overflow_y": null,
      "padding": null,
      "right": null,
      "top": null,
      "visibility": null,
      "width": null
     }
    },
    "8ca9a27bf6604a18bac882d8d33481f2": {
     "model_module": "@jupyter-widgets/base",
     "model_name": "LayoutModel",
     "state": {
      "_model_module": "@jupyter-widgets/base",
      "_model_module_version": "1.2.0",
      "_model_name": "LayoutModel",
      "_view_count": null,
      "_view_module": "@jupyter-widgets/base",
      "_view_module_version": "1.2.0",
      "_view_name": "LayoutView",
      "align_content": null,
      "align_items": null,
      "align_self": null,
      "border": null,
      "bottom": null,
      "display": null,
      "flex": null,
      "flex_flow": null,
      "grid_area": null,
      "grid_auto_columns": null,
      "grid_auto_flow": null,
      "grid_auto_rows": null,
      "grid_column": null,
      "grid_gap": null,
      "grid_row": null,
      "grid_template_areas": null,
      "grid_template_columns": null,
      "grid_template_rows": null,
      "height": null,
      "justify_content": null,
      "justify_items": null,
      "left": null,
      "margin": null,
      "max_height": null,
      "max_width": null,
      "min_height": null,
      "min_width": null,
      "object_fit": null,
      "object_position": null,
      "order": null,
      "overflow": null,
      "overflow_x": null,
      "overflow_y": null,
      "padding": null,
      "right": null,
      "top": null,
      "visibility": null,
      "width": null
     }
    },
    "8e951641a4164d6abff5f1ef3a22ec3f": {
     "model_module": "@jupyter-widgets/base",
     "model_name": "LayoutModel",
     "state": {
      "_model_module": "@jupyter-widgets/base",
      "_model_module_version": "1.2.0",
      "_model_name": "LayoutModel",
      "_view_count": null,
      "_view_module": "@jupyter-widgets/base",
      "_view_module_version": "1.2.0",
      "_view_name": "LayoutView",
      "align_content": null,
      "align_items": null,
      "align_self": null,
      "border": null,
      "bottom": null,
      "display": null,
      "flex": null,
      "flex_flow": null,
      "grid_area": null,
      "grid_auto_columns": null,
      "grid_auto_flow": null,
      "grid_auto_rows": null,
      "grid_column": null,
      "grid_gap": null,
      "grid_row": null,
      "grid_template_areas": null,
      "grid_template_columns": null,
      "grid_template_rows": null,
      "height": null,
      "justify_content": null,
      "justify_items": null,
      "left": null,
      "margin": null,
      "max_height": null,
      "max_width": null,
      "min_height": null,
      "min_width": null,
      "object_fit": null,
      "object_position": null,
      "order": null,
      "overflow": null,
      "overflow_x": null,
      "overflow_y": null,
      "padding": null,
      "right": null,
      "top": null,
      "visibility": null,
      "width": null
     }
    },
    "9bacb8f5f6f241d5b5bc6a95aedb187e": {
     "model_module": "@jupyter-widgets/base",
     "model_name": "LayoutModel",
     "state": {
      "_model_module": "@jupyter-widgets/base",
      "_model_module_version": "1.2.0",
      "_model_name": "LayoutModel",
      "_view_count": null,
      "_view_module": "@jupyter-widgets/base",
      "_view_module_version": "1.2.0",
      "_view_name": "LayoutView",
      "align_content": null,
      "align_items": null,
      "align_self": null,
      "border": null,
      "bottom": null,
      "display": null,
      "flex": null,
      "flex_flow": null,
      "grid_area": null,
      "grid_auto_columns": null,
      "grid_auto_flow": null,
      "grid_auto_rows": null,
      "grid_column": null,
      "grid_gap": null,
      "grid_row": null,
      "grid_template_areas": null,
      "grid_template_columns": null,
      "grid_template_rows": null,
      "height": null,
      "justify_content": null,
      "justify_items": null,
      "left": null,
      "margin": null,
      "max_height": null,
      "max_width": null,
      "min_height": null,
      "min_width": null,
      "object_fit": null,
      "object_position": null,
      "order": null,
      "overflow": null,
      "overflow_x": null,
      "overflow_y": null,
      "padding": null,
      "right": null,
      "top": null,
      "visibility": null,
      "width": null
     }
    },
    "9c582d52b73840a29b49c022339aa4c1": {
     "model_module": "@jupyter-widgets/controls",
     "model_name": "DescriptionStyleModel",
     "state": {
      "_model_module": "@jupyter-widgets/controls",
      "_model_module_version": "1.5.0",
      "_model_name": "DescriptionStyleModel",
      "_view_count": null,
      "_view_module": "@jupyter-widgets/base",
      "_view_module_version": "1.2.0",
      "_view_name": "StyleView",
      "description_width": ""
     }
    },
    "9f4d397131f74fc2af1b70db421539dc": {
     "model_module": "@jupyter-widgets/controls",
     "model_name": "HBoxModel",
     "state": {
      "_dom_classes": [],
      "_model_module": "@jupyter-widgets/controls",
      "_model_module_version": "1.5.0",
      "_model_name": "HBoxModel",
      "_view_count": null,
      "_view_module": "@jupyter-widgets/controls",
      "_view_module_version": "1.5.0",
      "_view_name": "HBoxView",
      "box_style": "",
      "children": [
       "IPY_MODEL_0d62f5fd4e344d858dac61bf4fc02ea5",
       "IPY_MODEL_71b64857495343ccb1c456d043096e76"
      ],
      "layout": "IPY_MODEL_8e951641a4164d6abff5f1ef3a22ec3f"
     }
    },
    "aea05129b0f340b3835bb4d85699baac": {
     "model_module": "@jupyter-widgets/controls",
     "model_name": "ProgressStyleModel",
     "state": {
      "_model_module": "@jupyter-widgets/controls",
      "_model_module_version": "1.5.0",
      "_model_name": "ProgressStyleModel",
      "_view_count": null,
      "_view_module": "@jupyter-widgets/base",
      "_view_module_version": "1.2.0",
      "_view_name": "StyleView",
      "bar_color": null,
      "description_width": "initial"
     }
    },
    "ba9ae4d6051a49188e8dcfce7cc21d02": {
     "model_module": "@jupyter-widgets/controls",
     "model_name": "ProgressStyleModel",
     "state": {
      "_model_module": "@jupyter-widgets/controls",
      "_model_module_version": "1.5.0",
      "_model_name": "ProgressStyleModel",
      "_view_count": null,
      "_view_module": "@jupyter-widgets/base",
      "_view_module_version": "1.2.0",
      "_view_name": "StyleView",
      "bar_color": null,
      "description_width": "initial"
     }
    },
    "bedd3107632542848bd2721344958545": {
     "model_module": "@jupyter-widgets/base",
     "model_name": "LayoutModel",
     "state": {
      "_model_module": "@jupyter-widgets/base",
      "_model_module_version": "1.2.0",
      "_model_name": "LayoutModel",
      "_view_count": null,
      "_view_module": "@jupyter-widgets/base",
      "_view_module_version": "1.2.0",
      "_view_name": "LayoutView",
      "align_content": null,
      "align_items": null,
      "align_self": null,
      "border": null,
      "bottom": null,
      "display": null,
      "flex": null,
      "flex_flow": null,
      "grid_area": null,
      "grid_auto_columns": null,
      "grid_auto_flow": null,
      "grid_auto_rows": null,
      "grid_column": null,
      "grid_gap": null,
      "grid_row": null,
      "grid_template_areas": null,
      "grid_template_columns": null,
      "grid_template_rows": null,
      "height": null,
      "justify_content": null,
      "justify_items": null,
      "left": null,
      "margin": null,
      "max_height": null,
      "max_width": null,
      "min_height": null,
      "min_width": null,
      "object_fit": null,
      "object_position": null,
      "order": null,
      "overflow": null,
      "overflow_x": null,
      "overflow_y": null,
      "padding": null,
      "right": null,
      "top": null,
      "visibility": null,
      "width": null
     }
    },
    "d14fdfe838d84cc3bd56a42dc2d922bc": {
     "model_module": "@jupyter-widgets/base",
     "model_name": "LayoutModel",
     "state": {
      "_model_module": "@jupyter-widgets/base",
      "_model_module_version": "1.2.0",
      "_model_name": "LayoutModel",
      "_view_count": null,
      "_view_module": "@jupyter-widgets/base",
      "_view_module_version": "1.2.0",
      "_view_name": "LayoutView",
      "align_content": null,
      "align_items": null,
      "align_self": null,
      "border": null,
      "bottom": null,
      "display": null,
      "flex": null,
      "flex_flow": null,
      "grid_area": null,
      "grid_auto_columns": null,
      "grid_auto_flow": null,
      "grid_auto_rows": null,
      "grid_column": null,
      "grid_gap": null,
      "grid_row": null,
      "grid_template_areas": null,
      "grid_template_columns": null,
      "grid_template_rows": null,
      "height": null,
      "justify_content": null,
      "justify_items": null,
      "left": null,
      "margin": null,
      "max_height": null,
      "max_width": null,
      "min_height": null,
      "min_width": null,
      "object_fit": null,
      "object_position": null,
      "order": null,
      "overflow": null,
      "overflow_x": null,
      "overflow_y": null,
      "padding": null,
      "right": null,
      "top": null,
      "visibility": null,
      "width": null
     }
    },
    "dd4b761ae9814d6b9b2bbde79a2f63ac": {
     "model_module": "@jupyter-widgets/controls",
     "model_name": "DescriptionStyleModel",
     "state": {
      "_model_module": "@jupyter-widgets/controls",
      "_model_module_version": "1.5.0",
      "_model_name": "DescriptionStyleModel",
      "_view_count": null,
      "_view_module": "@jupyter-widgets/base",
      "_view_module_version": "1.2.0",
      "_view_name": "StyleView",
      "description_width": ""
     }
    },
    "de3eaef947ff477697a6d4bf0d36859f": {
     "model_module": "@jupyter-widgets/controls",
     "model_name": "HTMLModel",
     "state": {
      "_dom_classes": [],
      "_model_module": "@jupyter-widgets/controls",
      "_model_module_version": "1.5.0",
      "_model_name": "HTMLModel",
      "_view_count": null,
      "_view_module": "@jupyter-widgets/controls",
      "_view_module_version": "1.5.0",
      "_view_name": "HTMLView",
      "description": "",
      "description_tooltip": null,
      "layout": "IPY_MODEL_e212247c1b5e46e4add6b61c5887c75c",
      "placeholder": "​",
      "style": "IPY_MODEL_473a88d051cf4bf19a89f8cedb4dbd06",
      "value": " 170/? [00:03&lt;00:00, 54.17it/s]"
     }
    },
    "e212247c1b5e46e4add6b61c5887c75c": {
     "model_module": "@jupyter-widgets/base",
     "model_name": "LayoutModel",
     "state": {
      "_model_module": "@jupyter-widgets/base",
      "_model_module_version": "1.2.0",
      "_model_name": "LayoutModel",
      "_view_count": null,
      "_view_module": "@jupyter-widgets/base",
      "_view_module_version": "1.2.0",
      "_view_name": "LayoutView",
      "align_content": null,
      "align_items": null,
      "align_self": null,
      "border": null,
      "bottom": null,
      "display": null,
      "flex": null,
      "flex_flow": null,
      "grid_area": null,
      "grid_auto_columns": null,
      "grid_auto_flow": null,
      "grid_auto_rows": null,
      "grid_column": null,
      "grid_gap": null,
      "grid_row": null,
      "grid_template_areas": null,
      "grid_template_columns": null,
      "grid_template_rows": null,
      "height": null,
      "justify_content": null,
      "justify_items": null,
      "left": null,
      "margin": null,
      "max_height": null,
      "max_width": null,
      "min_height": null,
      "min_width": null,
      "object_fit": null,
      "object_position": null,
      "order": null,
      "overflow": null,
      "overflow_x": null,
      "overflow_y": null,
      "padding": null,
      "right": null,
      "top": null,
      "visibility": null,
      "width": null
     }
    },
    "fb9ce6905ae346aa9117343267f79586": {
     "model_module": "@jupyter-widgets/controls",
     "model_name": "FloatProgressModel",
     "state": {
      "_dom_classes": [],
      "_model_module": "@jupyter-widgets/controls",
      "_model_module_version": "1.5.0",
      "_model_name": "FloatProgressModel",
      "_view_count": null,
      "_view_module": "@jupyter-widgets/controls",
      "_view_module_version": "1.5.0",
      "_view_name": "ProgressView",
      "bar_style": "success",
      "description": "100%",
      "description_tooltip": null,
      "layout": "IPY_MODEL_0d29427b2a134604ae603f44c44b56de",
      "max": 34,
      "min": 0,
      "orientation": "horizontal",
      "style": "IPY_MODEL_ba9ae4d6051a49188e8dcfce7cc21d02",
      "value": 34
     }
    }
   }
  }
 },
 "nbformat": 4,
 "nbformat_minor": 1
}
